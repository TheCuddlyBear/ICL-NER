{
 "cells": [
  {
   "cell_type": "markdown",
   "source": [
    "# Second Group Assignment: A Named Entity Recognizer for Dutch"
   ],
   "attachments": {},
   "metadata": {
    "datalore": {
     "node_id": "3Qfj4eVFUVOYASPPs3sFWt",
     "type": "MD",
     "hide_input_from_viewers": false,
     "hide_output_from_viewers": false,
     "report_properties": {
      "rowId": "WPmzltURzjr8QhLXns0amQ"
     }
    }
   }
  },
  {
   "cell_type": "markdown",
   "source": [
    "## Contents\n",
    "\n",
    "[Introduction](#Introduction)  \n",
    "[0. Preparation: Training data](#0.-Preparation:-Training-data)  \n",
    "[1. Step 1: A minimal NER tagger for Dutch](#1.-Step-1:-A-minimal-NER-tagger-for-Dutch)   \n",
    "[2. Feature Extractors](#2.-Feature-Extractors)  \n",
    "[3. Step 2: Turn it into a program](#3.-Step-2:-Turn-it-into-a-program)  \n",
    "[4. Pickling and unpickling successfully](#3.-Pickling-and-unpickling-successfully)  \n",
    "[5. Self-testing](#4.-Self-testing)  \n",
    "[6. Step 3: Write scripts to build and evaluate your models](#6.-Step-3:-Write-scripts-to-build-and-evaluate-your-models)  \n",
    "[7. Step 4: Improve the model by improving the feature selection](#7.-Step-4:-Improve-the-model-by-improving-the-feature-selection)  \n",
    "[8. Step 5: Performance evaluation](#8.-Step-5:-Performance-evaluation)\n",
    "[9. Step 6: Report](#9.-Step-6:-Report)\n",
    "[10. Step 7: Submission](#10.-Step-7:-Submission)\n",
    "[11. Practicalities](#11.-Practicalities)"
   ],
   "attachments": {},
   "metadata": {
    "datalore": {
     "node_id": "Ayb9pTOn50MovoEgBSVW51",
     "type": "MD",
     "hide_input_from_viewers": false,
     "hide_output_from_viewers": false,
     "report_properties": {
      "rowId": "yiNOMkyCpkdba0Nk0exShC"
     }
    }
   }
  },
  {
   "cell_type": "markdown",
   "source": [
    "## References\n",
    "\n",
    "* NLTK book, Chapter 6: Classification and classifiers\n",
    "* NLTK book, Chapter 7: Chunking and named entity recognition\n",
    "* Jurafsky and Martin, ch. 8, cover some NER and other sequence-tagging basics\n",
    "* Jurafsky and Martin, ch. 17, give a high-level introduction to information extraction"
   ],
   "attachments": {},
   "metadata": {
    "datalore": {
     "node_id": "KChRUUqlIy6loQRDwdEP1a",
     "type": "MD",
     "hide_input_from_viewers": false,
     "hide_output_from_viewers": false,
     "report_properties": {
      "rowId": "ZCHM3RyPKNKpzdsRrFIqhK"
     }
    }
   }
  },
  {
   "cell_type": "markdown",
   "source": [
    "## Introduction"
   ],
   "attachments": {},
   "metadata": {
    "datalore": {
     "node_id": "KGFvMI0iUh5d62ubK7AJqf",
     "type": "MD",
     "hide_input_from_viewers": false,
     "hide_output_from_viewers": false,
     "report_properties": {
      "rowId": "OpzdP5dzVwvKtjwI1P9CzP"
     }
    }
   }
  },
  {
   "cell_type": "markdown",
   "source": [
    "The goal of this activity is to construct a Named Entity Recognizer\n",
    "(NER): A device that can scan natural text, identify named entities\n",
    "such as persons, places and organizations that are referred to by\n",
    "name, and classify them according to type (PERSON, LOCATION, etc.)\n",
    "\n",
    "You will train a classifier on the Dutch component of the CONLL2002\n",
    "corpus. (The corpus also includes a Spanish\n",
    "component, so always specify which files you want to read.)\n",
    "\n",
    "The necessary background concepts and software techniques are\n",
    "presented in chapter 7 of the NLTK book:\n",
    "\n",
    "[Section 7.2]: http://www.nltk.org/book/ch07.html#sec-chunking\n",
    "[Section 7.3]: http://www.nltk.org/book/ch07.html#developing-and-evaluating-chunkers\n",
    "[Section 7.5]: http://www.nltk.org/book/ch07.html#named-entity-recognition\n",
    "\n",
    "* [Section 7.2][] presents the concept of *chunking*, and how the NLTK\n",
    "manages its chunked corpora.\n",
    "\n",
    "* [Section 7.3][] shows how to build and evaluate chunkers with the\n",
    "help of the NLTK's chunked corpora. The discussion is based on the\n",
    "CONLL2000 corpus (note the year), a corpus of _English_ text in which\n",
    "all noun phrases are indicated.\n",
    "\n",
    "* Finally, [Section 7.5][] briefly covers the task of Named Entity\n",
    "Recognition. (Tip for the impatient: Sections 7.2 and 7.3 are\n",
    "essential reading--do not skip them).\n",
    "\n",
    "In the CONLL2002 corpus, which contains Spanish and Dutch components,\n",
    "only named entities have been chunked. Although the content of the\n",
    "chunks is different, the structure and interface of the corpora is the\n",
    "same: The text is annotated with POS tags, chunks, and chunk types.\n",
    "Thus the procedures for chunking noun phrases can be adapted to the NER task with\n",
    "minimal changes: Just train on the Dutch CONLL2002 corpus, and\n",
    "recognize _its_ chunks.\n",
    "\n",
    "Once you have trained a NER model, you will save it in a _pickle_ so that you can use it later without re-training it. Pickling is explained in section #TODO below.\n",
    "\n",
    "\n",
    "* Practicum 10 (Week 6) will explain a lot of what you need to know to do this assignment. It is made available now in case you want to get started on it. You can get started right away by reading the text book.\n",
    "\n",
    "\n",
    "-----\n",
    "\n",
    "**Note:** The nltk's classifiers and taggers need the external `numpy`\n",
    "library, but fail in a very confusing way if it is not found. The\n",
    "Anaconda distribution includes `numpy`, so that's not a problem unless\n",
    "you are using python without Anaconda."
   ],
   "attachments": {},
   "metadata": {
    "datalore": {
     "node_id": "cvQ08vlCHX2G3VwcXeA7gA",
     "type": "MD",
     "hide_input_from_viewers": false,
     "hide_output_from_viewers": false,
     "report_properties": {
      "rowId": "TVH4LuOV8hqdpMHbWc3x26"
     }
    }
   }
  },
  {
   "cell_type": "markdown",
   "source": [
    "## 0. Preparation: Training data\n",
    "\n",
    "We will once again use the `CONLL2002` corpus, which was specifically created for the task of named entity recognition.\n",
    "\n",
    "In some earlier practica, we split the file `ned.train` into training\n",
    "and testing components. In fact, the corpus includes\n",
    "separate datasets for testing. Use all of the file `\"ned.train\"` (and nothing else) to train your models. Use the file `\"ned.testa\"` for testing. (If you're familiar with machine learning vocabulary, this means you should use `testa` as your development set.)"
   ],
   "attachments": {},
   "metadata": {
    "datalore": {
     "node_id": "hRGlKR4KtcQrp7gokt4fy7",
     "type": "MD",
     "hide_input_from_viewers": false,
     "hide_output_from_viewers": false,
     "report_properties": {
      "rowId": "buxUbJdBxVX15MoCiaCULV"
     }
    }
   }
  },
  {
   "cell_type": "markdown",
   "source": [
    "## 1. Step 1: A minimal NER tagger for Dutch"
   ],
   "attachments": {},
   "metadata": {
    "datalore": {
     "node_id": "H5vQmdQUZDPH4pSnUCYqRC",
     "type": "MD",
     "hide_input_from_viewers": false,
     "hide_output_from_viewers": false,
     "report_properties": {
      "rowId": "1WKNRUPt5Y8MZWaMJoEbVv"
     }
    }
   }
  },
  {
   "cell_type": "markdown",
   "source": [
    "**In brief:** Complete the wrapper `custom_chunker.py`, provided below. Train a named entity recognizer (NER) for Dutch. Pickle it and measure its performance."
   ],
   "attachments": {},
   "metadata": {
    "datalore": {
     "node_id": "oJz3GL6GWsJpNfhgQRSCLg",
     "type": "MD",
     "hide_input_from_viewers": false,
     "hide_output_from_viewers": false,
     "report_properties": {
      "rowId": "rNQLW6z3qumV7wzP7CzUw8"
     }
    }
   }
  },
  {
   "cell_type": "markdown",
   "source": [
    "[Section 7.3.3](http://www.nltk.org/book/ch07.html#training-classifier-based-chunkers) of the NLTK book provides sample code for a\n",
    "chunker, showing how to wrap a sequential MaxEnt classifier in a\n",
    "converter that acccepts chunked sentences in `Tree` format.\n",
    "You will write methods to complete module based on it. You'll save it as a module `custom_chunker.py`,\n",
    "and import it into your code."
   ],
   "attachments": {},
   "metadata": {
    "datalore": {
     "node_id": "BYQl4zZpkfKRqaDL9FnS95",
     "type": "MD",
     "hide_input_from_viewers": false,
     "hide_output_from_viewers": false,
     "report_properties": {
      "rowId": "bt7AubVAeYmeJX2P3zGzXl"
     }
    }
   }
  },
  {
   "cell_type": "markdown",
   "source": [
    "\n",
    "In the following steps you will write a function to prepare the training data, which you will then incorporate into the `_ConsecutiveNPChunkTagger` class below. \n",
    "\n",
    "To begin with, we need to import some things from `nltk` and check that we have `numpy`. If this raises an error, install `numpy` before you go on."
   ],
   "attachments": {},
   "metadata": {
    "datalore": {
     "node_id": "Eq2PNL4dzRjoNUZeuciPqL",
     "type": "MD",
     "hide_input_from_viewers": false,
     "hide_output_from_viewers": false,
     "report_properties": {
      "rowId": "yfpz6n5xKNXYhqMLmqZmyq"
     }
    }
   }
  },
  {
   "cell_type": "code",
   "source": [
    "import nltk\n",
    "from nltk.chunk.util import conlltags2tree, tree2conlltags\n",
    "\n",
    "# If numpy is absent, the nltk fails with a very confusing error.\n",
    "# We avoid problems by checking directly\n",
    "try:\n",
    "    import numpy\n",
    "except ImportError:\n",
    "    print(\"You need to download and install numpy!!!\")\n",
    "    raise"
   ],
   "execution_count": 1,
   "outputs": [],
   "metadata": {
    "datalore": {
     "node_id": "EUztN3cmCkixuVUMpevShH",
     "type": "CODE",
     "hide_input_from_viewers": false,
     "hide_output_from_viewers": false,
     "report_properties": {
      "rowId": "o5bvAlDLz6wchjhyYC1s55"
     }
    },
    "ExecuteTime": {
     "end_time": "2023-06-01T15:07:35.709482800Z",
     "start_time": "2023-06-01T15:07:33.864584400Z"
    }
   }
  },
  {
   "cell_type": "markdown",
   "source": [
    "The data set is imported below. For debugging, use a tiny sample so you don't have to wait for anything to train. When you train your real models, use the whole training set."
   ],
   "attachments": {},
   "metadata": {
    "datalore": {
     "node_id": "2Y5LZFHdPrFwd30JBDLEKK",
     "type": "MD",
     "hide_input_from_viewers": false,
     "hide_output_from_viewers": false,
     "report_properties": {
      "rowId": "uLXkeT94ZuwGH5wrmEr0nw"
     }
    }
   }
  },
  {
   "cell_type": "code",
   "source": [
    "from nltk.corpus import conll2002 as conll\n",
    "\n",
    "# for debugging, use a tiny corpus\n",
    "tiny_sample = 100\n",
    "training = conll.chunked_sents(\"ned.train\")[:tiny_sample] # SHORT DATASET: FOR DEMO/DEBUGGING ONLY! \n",
    "# training = conll.chunked_sents(\"ned.train\")\n",
    "testing = conll.chunked_sents(\"ned.testa\")"
   ],
   "execution_count": 2,
   "outputs": [],
   "metadata": {
    "datalore": {
     "node_id": "xey7oh5l6m3cTsSIudlCsE",
     "type": "CODE",
     "hide_input_from_viewers": false,
     "hide_output_from_viewers": false,
     "report_properties": {
      "rowId": "NwdMLJkQpRKLFh1PZjOhJZ"
     }
    },
    "ExecuteTime": {
     "end_time": "2023-06-01T15:07:39.178018700Z",
     "start_time": "2023-06-01T15:07:39.091066900Z"
    }
   }
  },
  {
   "cell_type": "markdown",
   "source": [
    "To use this module, you need a training dataset of chunked sentences\n",
    "(in `nltk.Tree` format) and a feature extractor function that will be used\n",
    "internally during training and regular use.\n",
    "\n",
    "## 2. Feature Extractors\n",
    "\n",
    "A feature extractor must accept a POS-tagged sentence `sentence`, the\n",
    "index `i` of a word in the sentence, and a tuple `history` containing\n",
    "the IOB tags that have already been assigned (presumably to earlier\n",
    "positions in the sentence). It must return a dictionary of the\n",
    "extracted features, where the keys are feature names and the values are the feature values. Because of the way the trainer works, the feature values have to be \"hashable\", which mostly means they can't be lists. If you want a list, turn it into a tuple with `tuple(my_list)`.\n",
    "\n",
    "Here is a very simple example, using just two features out of all the available information. The entire history is included so we can make sure the feature extractor is working right. (Are these useful features? Maybe, maybe not; the second half of the assignment is for figuring that out!)\n",
    "\n",
    "The name of this feature extractor and the docstring reflect the fact that this is just for testing the model code works correctly. When you make your own feature extractors, give them names that reflect their features, and docstrings that explain them."
   ],
   "attachments": {},
   "metadata": {
    "datalore": {
     "node_id": "3HkDKTn2MZPWrDQ1zYJHuv",
     "type": "MD",
     "hide_input_from_viewers": false,
     "hide_output_from_viewers": false,
     "report_properties": {
      "rowId": "AR8TthAIx2A4QexnnM6sOy"
     }
    }
   }
  },
  {
   "cell_type": "code",
   "source": [
    "def test_features(sentence, i, history):\n",
    "    \"\"\"dummy Chunker features designed to test the Chunker class for correctness\n",
    "        - the POS tag of the word\n",
    "        - the entire history of IOB tags so far\n",
    "            formatted as a tuple because it needs to be hashable\n",
    "    \"\"\"\n",
    "    word, pos = sentence[i]\n",
    "    return { \n",
    "        \"pos\": pos,\n",
    "        \"whole history\": tuple(history)\n",
    "            }"
   ],
   "execution_count": 3,
   "outputs": [],
   "metadata": {
    "datalore": {
     "node_id": "mJzbuNWTFmT9C2DoJPZtrn",
     "type": "CODE",
     "hide_input_from_viewers": false,
     "hide_output_from_viewers": false,
     "report_properties": {
      "rowId": "R5WT4Ys2UERgNUvOGFwchc"
     }
    },
    "ExecuteTime": {
     "end_time": "2023-06-01T15:07:41.424964600Z",
     "start_time": "2023-06-01T15:07:41.384193Z"
    }
   }
  },
  {
   "cell_type": "markdown",
   "source": [
    "Here is a utility function for getting the `nltk.Tree` training data into the right format for the tagger, which is lists of ((word, POS), IOB)."
   ],
   "attachments": {},
   "metadata": {
    "datalore": {
     "node_id": "pFTSIruaOXRiBXvFQmHSmN",
     "type": "MD",
     "hide_input_from_viewers": false,
     "hide_output_from_viewers": false,
     "report_properties": {
      "rowId": "od2ePeuMWnbE6gwd7FMHHX"
     }
    }
   }
  },
  {
   "cell_type": "code",
   "source": [
    "def reformat_corpus_for_tagger(training_sentences):\n",
    "    \"\"\"\n",
    "    Given a corpus in nltk.Tree format, returns the corpus as a list of lists of tuples,\n",
    "    where each tuple ((word, POS), IOB) includes the word, its POS tag, and the IOB tag to be predicted.\n",
    "    @param training_sentences nltk.Tree list\n",
    "    \"\"\"\n",
    "    return [[((word, pos), iob) for (word, pos, iob) in tree2conlltags(sent)] for sent in training_sentences]\n",
    "    "
   ],
   "execution_count": 4,
   "outputs": [],
   "metadata": {
    "datalore": {
     "node_id": "16TXVS12v0Bwb1mPh1oOuT",
     "type": "CODE",
     "hide_input_from_viewers": false,
     "hide_output_from_viewers": false,
     "report_properties": {
      "rowId": "E1Be2oTkGuw3dLiLlEtEG5"
     }
    },
    "ExecuteTime": {
     "end_time": "2023-06-01T15:07:42.816454400Z",
     "start_time": "2023-06-01T15:07:42.797949900Z"
    }
   }
  },
  {
   "cell_type": "markdown",
   "source": [
    "### Step 1.A \n",
    "\n",
    "Write a function that takes a feature map and a list of training sentences as given in the corpus and returns a list of appropriate training data for the tagger. Call `reformat_corpus_for_tagger` on the sentences to get them into the right format.\n",
    "\n",
    "The tagger is trained not on the sentences themselves, but on the features extracted from the sentences, paired with the gold tags. A sentence should therefore become a list of (feature dictionary, IOB tag) pairs. \n",
    "\n",
    "Interestingly, even though the corpus is a list of lists, the tagger takes as input a flat list of the (feature dictionary, IOB tag) pairs.\n",
    "\n",
    "When you extract the features from the words in the sentence, be mindful of how feature functions work: for each word in a sentence, you need to give it the full current sentence in the form of (word, POS) pairs, the index of the word, and the history of IOB tags for the words before this word **in the sentence** (not in the whole corpus).\n",
    "\n",
    "Finally, when you pass the history to the feature map, make sure you're not passing it a pointer to a history that will keep changing. If you do this, all the words will end up with the history of the last word in the corpus. One way to handle this is to use `from copy import copy`, and then you can use, e.g., `copy(history)` to get a separate copy that won't change."
   ],
   "attachments": {},
   "metadata": {
    "datalore": {
     "node_id": "3x4EqUwSR27z5alHatxbRh",
     "type": "MD",
     "hide_input_from_viewers": false,
     "hide_output_from_viewers": false,
     "report_properties": {
      "rowId": "rOMPWEnsw7lFDX9NbcqzGz"
     }
    }
   }
  },
  {
   "cell_type": "code",
   "source": [
    "# YOUR CODE\n",
    "\n",
    "def create_training_data(feature_function, training_sentences):\n",
    "    \"\"\"\n",
    "    Creates training data from the corpus of training_sentences and the feature_function\n",
    "    :param feature_function: function that maps (untagged sentence, word index,\n",
    "     history) to a dict of features (from features.py)\n",
    "    :param training_sentences: training sentences as lists of nltk.Tree objects\n",
    "    :return: list of (dict, IOB tag) pairs\n",
    "    \"\"\"\n",
    "    # TODO reformat sentences to ((word, pos_tag), iob_tag) pairs\n",
    "    tagger_corpus = reformat_corpus_for_tagger(training_sentences)\n",
    "    # TODO turn the sentences into appropriate training data by finding their features\n",
    "    train_set = []\n",
    "    for sent in tagger_corpus:\n",
    "        history = []\n",
    "        sentence = [ (word,pos) for ((word, pos), iob) in sent ]\n",
    "        for index, wordTuple in enumerate(sentence):\n",
    "            features = feature_function(sentence, index, history.copy())\n",
    "            history.append(sent[index][1])\n",
    "            train_set.append((features, sent[index][1]))\n",
    "    return train_set"
   ],
   "execution_count": 5,
   "outputs": [],
   "metadata": {
    "datalore": {
     "node_id": "zMlbJXeXJ8bNwKhzUiqxZH",
     "type": "CODE",
     "hide_input_from_viewers": false,
     "hide_output_from_viewers": false,
     "report_properties": {
      "rowId": "TazQZ8m6vIRQV4rPF3DtZ4"
     }
    },
    "ExecuteTime": {
     "end_time": "2023-06-01T15:07:45.874818900Z",
     "start_time": "2023-06-01T15:07:45.821905700Z"
    }
   }
  },
  {
   "cell_type": "markdown",
   "source": [
    "Use this test to check that `create_training_data` is working correctly."
   ],
   "attachments": {},
   "metadata": {
    "datalore": {
     "node_id": "pHbx57qCTbVeH8LCChCPyk",
     "type": "MD",
     "hide_input_from_viewers": false,
     "hide_output_from_viewers": false,
     "report_properties": {
      "rowId": "QTTMvf2Nwc0lw5TMbsqpT9"
     }
    }
   }
  },
  {
   "cell_type": "code",
   "source": [
    "# TEST\n",
    "\n",
    "training_data = create_training_data(test_features, training[0:2])\n",
    "\n",
    "if training_data == [({'pos': 'Art', 'whole history': ()}, 'O'), ({'pos': 'N', 'whole history': ('O',)}, 'O'), ({'pos': 'Prep', 'whole history': ('O', 'O')}, 'O'), ({'pos': 'Art', 'whole history': ('O', 'O', 'O')}, 'O'), ({'pos': 'N', 'whole history': ('O', 'O', 'O', 'O')}, 'O'), ({'pos': 'V', 'whole history': ('O', 'O', 'O', 'O', 'O')}, 'O'), ({'pos': 'Adv', 'whole history': ('O', 'O', 'O', 'O', 'O', 'O')}, 'O'), ({'pos': 'Adv', 'whole history': ('O', 'O', 'O', 'O', 'O', 'O', 'O')}, 'O'), ({'pos': 'Adj', 'whole history': ('O', 'O', 'O', 'O', 'O', 'O', 'O', 'O')}, 'O'), ({'pos': 'Adj', 'whole history': ('O', 'O', 'O', 'O', 'O', 'O', 'O', 'O', 'O')}, 'O'), ({'pos': 'Conj', 'whole history': ('O', 'O', 'O', 'O', 'O', 'O', 'O', 'O', 'O', 'O')}, 'O'), ({'pos': 'Art', 'whole history': ('O', 'O', 'O', 'O', 'O', 'O', 'O', 'O', 'O', 'O', 'O')}, 'O'), ({'pos': 'N', 'whole history': ('O', 'O', 'O', 'O', 'O', 'O', 'O', 'O', 'O', 'O', 'O', 'O')}, 'O'), ({'pos': 'V', 'whole history': ('O', 'O', 'O', 'O', 'O', 'O', 'O', 'O', 'O', 'O', 'O', 'O', 'O')}, 'O'), ({'pos': 'Adv', 'whole history': ('O', 'O', 'O', 'O', 'O', 'O', 'O', 'O', 'O', 'O', 'O', 'O', 'O', 'O')}, 'O'), ({'pos': 'V', 'whole history': ('O', 'O', 'O', 'O', 'O', 'O', 'O', 'O', 'O', 'O', 'O', 'O', 'O', 'O', 'O')}, 'O'), ({'pos': 'Prep', 'whole history': ('O', 'O', 'O', 'O', 'O', 'O', 'O', 'O', 'O', 'O', 'O', 'O', 'O', 'O', 'O', 'O')}, 'O'), ({'pos': 'Art', 'whole history': ('O', 'O', 'O', 'O', 'O', 'O', 'O', 'O', 'O', 'O', 'O', 'O', 'O', 'O', 'O', 'O', 'O')}, 'O'), ({'pos': 'N', 'whole history': ('O', 'O', 'O', 'O', 'O', 'O', 'O', 'O', 'O', 'O', 'O', 'O', 'O', 'O', 'O', 'O', 'O', 'O')}, 'O'), ({'pos': 'Conj', 'whole history': ('O', 'O', 'O', 'O', 'O', 'O', 'O', 'O', 'O', 'O', 'O', 'O', 'O', 'O', 'O', 'O', 'O', 'O', 'O')}, 'O'), ({'pos': 'N', 'whole history': ('O', 'O', 'O', 'O', 'O', 'O', 'O', 'O', 'O', 'O', 'O', 'O', 'O', 'O', 'O', 'O', 'O', 'O', 'O', 'O')}, 'B-ORG'), ({'pos': 'V', 'whole history': ('O', 'O', 'O', 'O', 'O', 'O', 'O', 'O', 'O', 'O', 'O', 'O', 'O', 'O', 'O', 'O', 'O', 'O', 'O', 'O', 'B-ORG')}, 'O'), ({'pos': 'Punc', 'whole history': ('O', 'O', 'O', 'O', 'O', 'O', 'O', 'O', 'O', 'O', 'O', 'O', 'O', 'O', 'O', 'O', 'O', 'O', 'O', 'O', 'B-ORG', 'O')}, 'O'), ({'pos': 'Prep', 'whole history': ()}, 'O'), ({'pos': 'Num', 'whole history': ('O',)}, 'O'), ({'pos': 'V', 'whole history': ('O', 'O')}, 'O'), ({'pos': 'Art', 'whole history': ('O', 'O', 'O')}, 'O'), ({'pos': 'Adj', 'whole history': ('O', 'O', 'O', 'O')}, 'O'), ({'pos': 'Adj', 'whole history': ('O', 'O', 'O', 'O', 'O')}, 'B-MISC'), ({'pos': 'N', 'whole history': ('O', 'O', 'O', 'O', 'O', 'B-MISC')}, 'O'), ({'pos': 'Art', 'whole history': ('O', 'O', 'O', 'O', 'O', 'B-MISC', 'O')}, 'O'), ({'pos': 'N', 'whole history': ('O', 'O', 'O', 'O', 'O', 'B-MISC', 'O', 'O')}, 'O'), ({'pos': 'Prep', 'whole history': ('O', 'O', 'O', 'O', 'O', 'B-MISC', 'O', 'O', 'O')}, 'O'), ({'pos': 'Art', 'whole history': ('O', 'O', 'O', 'O', 'O', 'B-MISC', 'O', 'O', 'O', 'O')}, 'O'), ({'pos': 'N', 'whole history': ('O', 'O', 'O', 'O', 'O', 'B-MISC', 'O', 'O', 'O', 'O', 'O')}, 'B-MISC'), ({'pos': 'Pron', 'whole history': ('O', 'O', 'O', 'O', 'O', 'B-MISC', 'O', 'O', 'O', 'O', 'O', 'B-MISC')}, 'O'), ({'pos': 'Art', 'whole history': ('O', 'O', 'O', 'O', 'O', 'B-MISC', 'O', 'O', 'O', 'O', 'O', 'B-MISC', 'O')}, 'O'), ({'pos': 'N', 'whole history': ('O', 'O', 'O', 'O', 'O', 'B-MISC', 'O', 'O', 'O', 'O', 'O', 'B-MISC', 'O', 'O')}, 'O'), ({'pos': 'Prep', 'whole history': ('O', 'O', 'O', 'O', 'O', 'B-MISC', 'O', 'O', 'O', 'O', 'O', 'B-MISC', 'O', 'O', 'O')}, 'O'), ({'pos': 'Pron', 'whole history': ('O', 'O', 'O', 'O', 'O', 'B-MISC', 'O', 'O', 'O', 'O', 'O', 'B-MISC', 'O', 'O', 'O', 'O')}, 'O'), ({'pos': 'N', 'whole history': ('O', 'O', 'O', 'O', 'O', 'B-MISC', 'O', 'O', 'O', 'O', 'O', 'B-MISC', 'O', 'O', 'O', 'O', 'O')}, 'O'), ({'pos': 'V', 'whole history': ('O', 'O', 'O', 'O', 'O', 'B-MISC', 'O', 'O', 'O', 'O', 'O', 'B-MISC', 'O', 'O', 'O', 'O', 'O', 'O')}, 'O'), ({'pos': 'V', 'whole history': ('O', 'O', 'O', 'O', 'O', 'B-MISC', 'O', 'O', 'O', 'O', 'O', 'B-MISC', 'O', 'O', 'O', 'O', 'O', 'O', 'O')}, 'O'), ({'pos': 'V', 'whole history': ('O', 'O', 'O', 'O', 'O', 'B-MISC', 'O', 'O', 'O', 'O', 'O', 'B-MISC', 'O', 'O', 'O', 'O', 'O', 'O', 'O', 'O')}, 'O'), ({'pos': 'Punc', 'whole history': ('O', 'O', 'O', 'O', 'O', 'B-MISC', 'O', 'O', 'O', 'O', 'O', 'B-MISC', 'O', 'O', 'O', 'O', 'O', 'O', 'O', 'O', 'O')}, 'O')]:\n",
    "    print(\"\\nTraining data is formated correctly\")\n",
    "\n",
    "else:\n",
    "    print(\"\\n** Training data isn't formatted correctly!** Possible hints below\")\n",
    "    print(f\"Type is {type(training_data)} and should be <class 'list'>\")\n",
    "    if type(training_data) == list and len(training_data) > 0:\n",
    "        print(f\"Type of list members is {type(training_data[0])} and should be <class 'tuple'>\")\n",
    "        if len(training_data) > 1:\n",
    "            print(f\"item 2 is:\\n{training_data[2]}\\nand should be:\\n({{'pos': 'Prep', 'whole history': ['O', 'O']}}, 'O')\") \n",
    "\n",
    "            \n",
    "# If you can't tell what's wrong, try printing the whole thing\n",
    "# print(training_data)"
   ],
   "execution_count": 7,
   "outputs": [
    {
     "name": "stdout",
     "output_type": "stream",
     "text": [
      "\n",
      "Training data is formated correctly\n"
     ]
    }
   ],
   "metadata": {
    "datalore": {
     "node_id": "FVptrdgdQgdSuP4dAvIGFj",
     "type": "CODE",
     "hide_input_from_viewers": false,
     "hide_output_from_viewers": false,
     "report_properties": {
      "rowId": "gNBaUWQo1e3lNGdEtSwjnF"
     }
    },
    "ExecuteTime": {
     "end_time": "2023-06-01T15:07:51.434934700Z",
     "start_time": "2023-06-01T15:07:51.393107300Z"
    }
   }
  },
  {
   "cell_type": "markdown",
   "source": [
    "### Step 1.B.  Complete the Chunker module\n",
    "\n",
    "Finish the following module by completing the `_ConsecutiveNPChunkTagger` class. Follow the `#TODO` instructions to complete the `__init__` method and transform your `create_training_data` function into a class method.\n",
    "\n",
    "**Warning**: Don't store the training data itself inside the class; this will make it impossible to pickle."
   ],
   "attachments": {},
   "metadata": {
    "datalore": {
     "node_id": "MESAc1pIHmcsBdfXUR66nF",
     "type": "MD",
     "hide_input_from_viewers": false,
     "hide_output_from_viewers": false,
     "report_properties": {
      "rowId": "PLUfmUTxJL2YICaJgTvWnT"
     }
    }
   }
  },
  {
   "cell_type": "code",
   "source": [
    "\"\"\"\n",
    "FILE: incomplete_custom_chunker.py AS GIVEN IN ASSIGNMENT\n",
    "\n",
    "Based on code from http://www.nltk.org/book/ch07.html#code-classifier-chunker\n",
    "\n",
    "Authors: Alexis Dimitriadis, Meaghan Fowlie, and #TODO you!\n",
    "\n",
    "Use ConsecutiveNPChunker to train and use a classifier\n",
    "\n",
    "Treat _ConsecutiveNPChunkTagger as private: do not use it directly; it is called by ConsecutiveNPChunker\n",
    "\n",
    "\"\"\"\n",
    "from abc import ABC\n",
    "\n",
    "import nltk\n",
    "from nltk.chunk.util import conlltags2tree, tree2conlltags\n",
    "\n",
    "# If numpy is absent, nltk fails with a very confusing error.\n",
    "# We avoid problems by checking directly\n",
    "try:\n",
    "    import numpy\n",
    "except ImportError:\n",
    "    print(\"You need to download and install numpy!!!\")\n",
    "    raise\n",
    "\n",
    "\n",
    "class ConsecutiveNPChunker(nltk.ChunkParserI, ABC):\n",
    "    \"\"\"\n",
    "    Trained classifier for NER\n",
    "    Classifier Input: a POS-tagged sentence -- (word, POS) list\n",
    "    Classifier Output: an IOB-tagged sentence -- ((word, POS), IOB) list\n",
    "    Attributes:\n",
    "        tagger: a _ConsecutiveNPChunkTagger object, trained on the feature map\n",
    "                and training set given to __init__\n",
    "    \"\"\"\n",
    "\n",
    "    def __init__(self, feature_function, training_sentences, algorithm=\"NaiveBayes\", verbose=0):\n",
    "        \"\"\"\n",
    "        Train a classifier on chunked data in Tree format.\n",
    "        :param feature_function: The function that will compute features for each\n",
    "         word in a sentence. \n",
    "        :param training_sentences: A list of sentences in chunked (Tree) format.\n",
    "        :param algorithm: str: which classifier to use \n",
    "            (default NaiveBayes; other possibilities IIS, GIS, and DecisionTree)\n",
    "        :param verbose: int: how much to print during training (default 0, meaning nothing)\n",
    "        \"\"\"        \n",
    "        \n",
    "        # train the tagger\n",
    "        self.tagger = _ConsecutiveNPChunkTagger(feature_function,\n",
    "                                                training_sentences,\n",
    "                                                algorithm=algorithm,\n",
    "                                                verbose=verbose)\n",
    "\n",
    "    def parse(self, sentence):\n",
    "        \"\"\"\n",
    "        tag a sentence with IOB tags and return a tree\n",
    "        :param sentence: list of (word, POS) pairs\n",
    "        :return: Conll tree\n",
    "        \"\"\"\n",
    "        tagged_sent = self.tagger.tag(sentence)\n",
    "        # return to conll format\n",
    "        conll_tags = [(word, pos, iob) for ((word, pos), iob) in tagged_sent]\n",
    "        return conlltags2tree(conll_tags)\n",
    "\n",
    "    def explain(self):\n",
    "        \"\"\"Print the docstring of our feature extraction function\"\"\"\n",
    "        print(\"Algorithm:\", self.tagger.algorithm)\n",
    "        # Print the feature map's doc string:\n",
    "        print(self.tagger.feature_function.__doc__)\n",
    "\n",
    "    def show_most_informative_features(self, n=10):\n",
    "        \"\"\"\n",
    "        Call our classifier's `show_most_informative_features()` function.\n",
    "        :param n : int: the number of features to print (default 10)\n",
    "        \"\"\"\n",
    "        self.tagger.classifier.show_most_informative_features(n)\n",
    "        \n",
    "    def tag_corpus_sentence(self, sentence):\n",
    "        \"\"\"\n",
    "        tags a sentence in nltk.Tree form\n",
    "        :param sentence: nltk.Tree formated sentence, as in the corpora\n",
    "        :return tagged sentence as ((word, POS), IOB) pairs,\n",
    "                where IOB are the tags predicted by the model\n",
    "        \"\"\"\n",
    "        # turn the sentence into a unary list,\n",
    "        # use reformat_corpus_for_tagger,\n",
    "        # and untag the sentence\n",
    "        s = nltk.tag.untag(self.tagger.reformat_corpus_for_tagger([sentence])[0])\n",
    "        \n",
    "        # use the trained tagger to re-tag the sentence\n",
    "        return list(self.tagger.tag(s))\n",
    "    \n",
    "    def compare_output_to_gold(self, sentence):\n",
    "        \"\"\"\n",
    "        tags a sentence from the corpus and prints out a word-by-word comparison with the gold data\n",
    "        :param sentence: a sentence in nltk.Tree form, as in the corpora\n",
    "        \"\"\"\n",
    "        gold = self.tagger.reformat_corpus_for_tagger([sentence])[0]\n",
    "        tagged = self.tag_corpus_sentence(sentence)\n",
    "        print(\"gold\")\n",
    "        print(\"tagged\\n\")\n",
    "        for i in range(len(gold)):\n",
    "            print(gold[i])\n",
    "            print(tagged[i], \"\\n\")"
   ],
   "execution_count": 8,
   "outputs": [],
   "metadata": {
    "datalore": {
     "node_id": "mz0VvpUAnbfhOIspuFWNaH",
     "type": "CODE",
     "hide_input_from_viewers": false,
     "hide_output_from_viewers": false,
     "report_properties": {
      "rowId": "KJsQ6N7KHqMgz0Dz19PeEF"
     }
    },
    "ExecuteTime": {
     "end_time": "2023-06-01T15:07:53.426618400Z",
     "start_time": "2023-06-01T15:07:53.399087300Z"
    }
   }
  },
  {
   "cell_type": "code",
   "source": [
    "class _ConsecutiveNPChunkTagger(nltk.TaggerI):\n",
    "    \"\"\"This class is not meant to be\n",
    "    used directly: Use ConsecutiveNPChunker instead.\n",
    "    Attributes:\n",
    "        feature_function: map from\n",
    "                    (sentence, word index, history of features assigned so far)\n",
    "                    to dict of feature name: feature value.\n",
    "                    Imported from features.py.\n",
    "        train_set: list of (feature dict, IOB tag) pairs\n",
    "        classifier: nltk.NaiveBayesClassifier trained on training_sentences (default)\n",
    "        algorithm: str: name of the algorithm for reporting\n",
    "    \"\"\"\n",
    "\n",
    "    def __init__(self, feature_function, training_sentences, algorithm=\"NaiveBayes\", verbose=0):\n",
    "        \"\"\"\n",
    "        Initialises and trains a tagger using the given features\n",
    "         and training sentences\n",
    "        :param feature_function: function that maps (untagged sentence, word index,\n",
    "         history) to a dict of features (from features.py)\n",
    "        :param training_sentences  : training sentences as list of\n",
    "                            ((word, pos_tag), iob_tag) pairs\n",
    "        :param algorithm: str:  which training algorithm to use. Default NaiveBayes.\n",
    "                                Other options are IIS, GIS, and DecisionTree.\n",
    "        :param verbose: int: IIS and GIS only: how much to print during training (0 = nothing)\n",
    "        \"\"\"\n",
    "\n",
    "        self.train_set = []  # initialise self.train_set\n",
    "\n",
    "        self.feature_function = feature_function\n",
    "        self.create_training_data(training_sentences)\n",
    " \n",
    "        #if algorithm != \"NaiveBayes\" or algorithm != \"DecisionTree\" or algorithm != \"IIS\" or algorithm != \"GIS\": \n",
    "            #raise Exception(\"Algorithm has to be: \\\"NaiveBayes\\\", \\\"DecisionTree\\\", \\\"IIS\\\", and \\\"GIS\\\"\")\n",
    "\n",
    "        # set and train the classifier\n",
    "        if algorithm == \"NaiveBayes\":\n",
    "            self.classifier = nltk.NaiveBayesClassifier.train(self.train_set)\n",
    "            self.algorithm = \"Naive Bayes\"\n",
    "        elif algorithm == \"DecisionTree\":\n",
    "            self.classifier = nltk.DecisionTreeClassifier.train(self.train_set)\n",
    "            self.algorithm = \"Decision Tree\"\n",
    "        elif algorithm == \"IIS\" or algorithm == \"GIS\":\n",
    "            self.classifier = nltk.MaxentClassifier.train(\n",
    "                self.train_set, algorithm=algorithm, trace=verbose)\n",
    "            self.algorithm = f\"Maximum Entropy with {algorithm}\"\n",
    "        else:\n",
    "            raise Exception(\"Algorithm has to be: \\\"NaiveBayes\\\", \\\"DecisionTree\\\", \\\"IIS\\\", and \\\"GIS\\\"\")\n",
    "\n",
    "\n",
    "    @staticmethod\n",
    "    def reformat_corpus_for_tagger(training_sentences):\n",
    "        \"\"\"\n",
    "        Given a corpus in nltk.Tree list format, returns the corpus as a list of lists of tuples,\n",
    "        where each tuple ((word, POS), IOB) includes the word, its POS tag, and the IOB tag to be predicted.\n",
    "        :param training_sentences nltk.Tree list of IOB-tagged sentences\n",
    "        \"\"\"\n",
    "        return [[((word, pos), iob) for (word, pos, iob) in tree2conlltags(sent)] for sent in training_sentences]\n",
    "\n",
    "    def create_training_data(self, training_sentences):\n",
    "        \"\"\"\n",
    "        Creates training data from the corpus of training_sentences and self.feature_function\n",
    "        stores a list of (dict, IOB tag) pairs as self.train_set\n",
    "\n",
    "        :param training_sentences: list of nltk.Trees with IOB tags\n",
    "\n",
    "        TODO make your function into a method that\n",
    "            uses the stored self.feature_function,\n",
    "            calls self.reformat_corpus_for_tagger on training_sentences,\n",
    "            and stores the training data as self.train_set\n",
    "            (and update this comment!)\n",
    "        \"\"\"\n",
    "        tagger_corpus = _ConsecutiveNPChunkTagger.reformat_corpus_for_tagger(training_sentences)\n",
    "        for sent in tagger_corpus:\n",
    "            history = []\n",
    "            sentence = [ (word,pos) for ((word, pos), iob) in sent ]\n",
    "            for index, wordTuple in enumerate(sentence):\n",
    "                features = self.feature_function(sentence, index, history.copy())\n",
    "                history.append(sent[index][1])\n",
    "                self.train_set.append((features, sent[index][1]))\n",
    "\n",
    "\n",
    "    def tag(self, sentence):\n",
    "        \"\"\"\n",
    "        uses the trained classifier to tag a sentence\n",
    "        :param sentence: list of (word, pos_tag) pairs\n",
    "        :return: list of ((word, pos_tag), IOB_tag) pairs\n",
    "        \"\"\"\n",
    "        history = []\n",
    "        for i in range(len(sentence)):\n",
    "            # extract the features\n",
    "            feature_dict = self.feature_function(sentence, i, history)\n",
    "            # tag the sentence\n",
    "            tag = self.classifier.classify(feature_dict)\n",
    "            history.append(tag)\n",
    "        return zip(sentence, history)"
   ],
   "execution_count": 9,
   "outputs": [],
   "metadata": {
    "datalore": {
     "node_id": "ifi6sVjS7nFkoF0UqfwSpW",
     "type": "CODE",
     "hide_input_from_viewers": false,
     "hide_output_from_viewers": false,
     "report_properties": {
      "rowId": "xJjg6Tr8i3ijuLTGBG5sTb"
     }
    },
    "ExecuteTime": {
     "end_time": "2023-06-01T15:07:56.398766800Z",
     "start_time": "2023-06-01T15:07:56.361176Z"
    }
   }
  },
  {
   "cell_type": "markdown",
   "source": [
    "A number of methods are built into this class that you might find helpful for your work. For instance, `ConsecutiveNPChunker.compare_output_to_gold` tags a sentence from the corpus and prints out a word-by-word comparison with the gold data.\n",
    "\n",
    "You can look at all their docstrings at once with `help`. Notice that some a inherited from their parent classes, `nltk.ChunkParserI` and `nltk.TaggerI`."
   ],
   "attachments": {},
   "metadata": {
    "datalore": {
     "node_id": "kdb4R7OX82uv6ry0Nvh74t",
     "type": "MD",
     "hide_input_from_viewers": false,
     "hide_output_from_viewers": false,
     "report_properties": {
      "rowId": "mJ24uPqeRsClQla9mk4rGz"
     }
    }
   }
  },
  {
   "cell_type": "code",
   "source": [
    "help(ConsecutiveNPChunker)"
   ],
   "execution_count": 10,
   "outputs": [
    {
     "name": "stdout",
     "output_type": "stream",
     "text": [
      "Help on class ConsecutiveNPChunker in module __main__:\n",
      "\n",
      "class ConsecutiveNPChunker(nltk.chunk.api.ChunkParserI, abc.ABC)\n",
      " |  ConsecutiveNPChunker(feature_function, training_sentences, algorithm='NaiveBayes', verbose=0)\n",
      " |  \n",
      " |  Trained classifier for NER\n",
      " |  Classifier Input: a POS-tagged sentence -- (word, POS) list\n",
      " |  Classifier Output: an IOB-tagged sentence -- ((word, POS), IOB) list\n",
      " |  Attributes:\n",
      " |      tagger: a _ConsecutiveNPChunkTagger object, trained on the feature map\n",
      " |              and training set given to __init__\n",
      " |  \n",
      " |  Method resolution order:\n",
      " |      ConsecutiveNPChunker\n",
      " |      nltk.chunk.api.ChunkParserI\n",
      " |      nltk.parse.api.ParserI\n",
      " |      abc.ABC\n",
      " |      builtins.object\n",
      " |  \n",
      " |  Methods defined here:\n",
      " |  \n",
      " |  __init__(self, feature_function, training_sentences, algorithm='NaiveBayes', verbose=0)\n",
      " |      Train a classifier on chunked data in Tree format.\n",
      " |      :param feature_function: The function that will compute features for each\n",
      " |       word in a sentence. \n",
      " |      :param training_sentences: A list of sentences in chunked (Tree) format.\n",
      " |      :param algorithm: str: which classifier to use \n",
      " |          (default NaiveBayes; other possibilities IIS, GIS, and DecisionTree)\n",
      " |      :param verbose: int: how much to print during training (default 0, meaning nothing)\n",
      " |  \n",
      " |  compare_output_to_gold(self, sentence)\n",
      " |      tags a sentence from the corpus and prints out a word-by-word comparison with the gold data\n",
      " |      :param sentence: a sentence in nltk.Tree form, as in the corpora\n",
      " |  \n",
      " |  explain(self)\n",
      " |      Print the docstring of our feature extraction function\n",
      " |  \n",
      " |  parse(self, sentence)\n",
      " |      tag a sentence with IOB tags and return a tree\n",
      " |      :param sentence: list of (word, POS) pairs\n",
      " |      :return: Conll tree\n",
      " |  \n",
      " |  show_most_informative_features(self, n=10)\n",
      " |      Call our classifier's `show_most_informative_features()` function.\n",
      " |      :param n : int: the number of features to print (default 10)\n",
      " |  \n",
      " |  tag_corpus_sentence(self, sentence)\n",
      " |      tags a sentence in nltk.Tree form\n",
      " |      :param sentence: nltk.Tree formated sentence, as in the corpora\n",
      " |      :return tagged sentence as ((word, POS), IOB) pairs,\n",
      " |              where IOB are the tags predicted by the model\n",
      " |  \n",
      " |  ----------------------------------------------------------------------\n",
      " |  Data and other attributes defined here:\n",
      " |  \n",
      " |  __abstractmethods__ = frozenset()\n",
      " |  \n",
      " |  ----------------------------------------------------------------------\n",
      " |  Methods inherited from nltk.chunk.api.ChunkParserI:\n",
      " |  \n",
      " |  accuracy(self, gold)\n",
      " |      Score the accuracy of the chunker against the gold standard.\n",
      " |      Remove the chunking the gold standard text, rechunk it using\n",
      " |      the chunker, and return a ``ChunkScore`` object\n",
      " |      reflecting the performance of this chunk parser.\n",
      " |      \n",
      " |      :type gold: list(Tree)\n",
      " |      :param gold: The list of chunked sentences to score the chunker on.\n",
      " |      :rtype: ChunkScore\n",
      " |  \n",
      " |  evaluate(*args, **kwargs)\n",
      " |      @deprecated: Use accuracy(gold) instead.\n",
      " |  \n",
      " |  ----------------------------------------------------------------------\n",
      " |  Methods inherited from nltk.parse.api.ParserI:\n",
      " |  \n",
      " |  grammar(self)\n",
      " |      :return: The grammar used by this parser.\n",
      " |  \n",
      " |  parse_all(self, sent, *args, **kwargs)\n",
      " |      :rtype: list(Tree)\n",
      " |  \n",
      " |  parse_one(self, sent, *args, **kwargs)\n",
      " |      :rtype: Tree or None\n",
      " |  \n",
      " |  parse_sents(self, sents, *args, **kwargs)\n",
      " |      Apply ``self.parse()`` to each element of ``sents``.\n",
      " |      :rtype: iter(iter(Tree))\n",
      " |  \n",
      " |  ----------------------------------------------------------------------\n",
      " |  Data descriptors inherited from nltk.parse.api.ParserI:\n",
      " |  \n",
      " |  __dict__\n",
      " |      dictionary for instance variables (if defined)\n",
      " |  \n",
      " |  __weakref__\n",
      " |      list of weak references to the object (if defined)\n",
      "\n"
     ]
    }
   ],
   "metadata": {
    "datalore": {
     "node_id": "ystoqzwiNeX62aAX0H1nyN",
     "type": "CODE",
     "hide_input_from_viewers": false,
     "hide_output_from_viewers": false,
     "report_properties": {
      "rowId": "8Ynvhme5rK3Glq7oPFHubx"
     }
    },
    "ExecuteTime": {
     "end_time": "2023-06-01T15:07:59.769170200Z",
     "start_time": "2023-06-01T15:07:59.718104800Z"
    }
   }
  },
  {
   "cell_type": "code",
   "source": [
    "help(_ConsecutiveNPChunkTagger)"
   ],
   "execution_count": 28,
   "outputs": [
    {
     "name": "stdout",
     "text": [
      "Help on class _ConsecutiveNPChunkTagger in module __main__:\n",
      "\n",
      "class _ConsecutiveNPChunkTagger(nltk.tag.api.TaggerI)\n",
      " |  _ConsecutiveNPChunkTagger(feature_function, training_sentences, algorithm='NaiveBayes', verbose=0)\n",
      " |  \n",
      " |  This class is not meant to be\n",
      " |  used directly: Use ConsecutiveNPChunker instead.\n",
      " |  Attributes:\n",
      " |      feature_function: map from\n",
      " |                  (sentence, word index, history of features assigned so far)\n",
      " |                  to dict of feature name: feature value.\n",
      " |                  Imported from features.py.\n",
      " |      train_set: list of (feature dict, IOB tag) pairs\n",
      " |      classifier: nltk.NaiveBayesClassifier trained on training_sentences (default)\n",
      " |      algorithm: str: name of the algorithm for reporting\n",
      " |  \n",
      " |  Method resolution order:\n",
      " |      _ConsecutiveNPChunkTagger\n",
      " |      nltk.tag.api.TaggerI\n",
      " |      builtins.object\n",
      " |  \n",
      " |  Methods defined here:\n",
      " |  \n",
      " |  __init__(self, feature_function, training_sentences, algorithm='NaiveBayes', verbose=0)\n",
      " |      Initialises and trains a tagger using the given features\n",
      " |       and training sentences\n",
      " |      :param feature_function: function that maps (untagged sentence, word index,\n",
      " |       history) to a dict of features (from features.py)\n",
      " |      :param training_sentences  : training sentences as list of\n",
      " |                          ((word, pos_tag), iob_tag) pairs\n",
      " |      :param algorithm: str:  which training algorithm to use. Default NaiveBayes.\n",
      " |                              Other options are IIS, GIS, and DecisionTree.\n",
      " |      :param verbose: int: IIS and GIS only: how much to print during training (0 = nothing)\n",
      " |  \n",
      " |  create_training_data(self, training_sentences)\n",
      " |      Creates training data from the corpus of training_sentences and self.feature_function\n",
      " |      stores a list of (dict, IOB tag) pairs as self.train_set\n",
      " |      \n",
      " |      :param training_sentences: list of nltk.Trees with IOB tags\n",
      " |      \n",
      " |      TODO make your function into a method that\n",
      " |          uses the stored self.feature_function,\n",
      " |          calls self.reformat_corpus_for_tagger on training_sentences,\n",
      " |          and stores the training data as self.train_set\n",
      " |          (and update this comment!)\n",
      " |  \n",
      " |  tag(self, sentence)\n",
      " |      uses the trained classifier to tag a sentence\n",
      " |      :param sentence: list of (word, pos_tag) pairs\n",
      " |      :return: list of ((word, pos_tag), IOB_tag) pairs\n",
      " |  \n",
      " |  ----------------------------------------------------------------------\n",
      " |  Static methods defined here:\n",
      " |  \n",
      " |  reformat_corpus_for_tagger(training_sentences)\n",
      " |      Given a corpus in nltk.Tree list format, returns the corpus as a list of lists of tuples,\n",
      " |      where each tuple ((word, POS), IOB) includes the word, its POS tag, and the IOB tag to be predicted.\n",
      " |      :param training_sentences nltk.Tree list of IOB-tagged sentences\n",
      " |  \n",
      " |  ----------------------------------------------------------------------\n",
      " |  Data and other attributes defined here:\n",
      " |  \n",
      " |  __abstractmethods__ = frozenset()\n",
      " |  \n",
      " |  ----------------------------------------------------------------------\n",
      " |  Methods inherited from nltk.tag.api.TaggerI:\n",
      " |  \n",
      " |  accuracy(self, gold)\n",
      " |      Score the accuracy of the tagger against the gold standard.\n",
      " |      Strip the tags from the gold standard text, retag it using\n",
      " |      the tagger, then compute the accuracy score.\n",
      " |      \n",
      " |      :param gold: The list of tagged sentences to score the tagger on.\n",
      " |      :type gold: list(list(tuple(str, str)))\n",
      " |      :rtype: float\n",
      " |  \n",
      " |  confusion(self, gold)\n",
      " |      Return a ConfusionMatrix with the tags from ``gold`` as the reference\n",
      " |      values, with the predictions from ``tag_sents`` as the predicted values.\n",
      " |      \n",
      " |      >>> from nltk.tag import PerceptronTagger\n",
      " |      >>> from nltk.corpus import treebank\n",
      " |      >>> tagger = PerceptronTagger()\n",
      " |      >>> gold_data = treebank.tagged_sents()[:10]\n",
      " |      >>> print(tagger.confusion(gold_data))\n",
      " |             |        -                                                                                     |\n",
      " |             |        N                                                                                     |\n",
      " |             |        O                                               P                                     |\n",
      " |             |        N                       J  J        N  N  P  P  R     R           V  V  V  V  V  W    |\n",
      " |             |  '     E     C  C  D  E  I  J  J  J  M  N  N  N  O  R  P  R  B  R  T  V  B  B  B  B  B  D  ` |\n",
      " |             |  '  ,  -  .  C  D  T  X  N  J  R  S  D  N  P  S  S  P  $  B  R  P  O  B  D  G  N  P  Z  T  ` |\n",
      " |      -------+----------------------------------------------------------------------------------------------+\n",
      " |          '' | <1> .  .  .  .  .  .  .  .  .  .  .  .  .  .  .  .  .  .  .  .  .  .  .  .  .  .  .  .  .  . |\n",
      " |           , |  .<15> .  .  .  .  .  .  .  .  .  .  .  .  .  .  .  .  .  .  .  .  .  .  .  .  .  .  .  .  . |\n",
      " |      -NONE- |  .  . <.> .  .  2  .  .  .  2  .  .  .  5  1  .  .  .  .  2  .  .  .  .  .  .  .  .  .  .  . |\n",
      " |           . |  .  .  .<10> .  .  .  .  .  .  .  .  .  .  .  .  .  .  .  .  .  .  .  .  .  .  .  .  .  .  . |\n",
      " |          CC |  .  .  .  . <1> .  .  .  .  .  .  .  .  .  .  .  .  .  .  .  .  .  .  .  .  .  .  .  .  .  . |\n",
      " |          CD |  .  .  .  .  . <5> .  .  .  .  .  .  .  .  .  .  .  .  .  .  .  .  .  .  .  .  .  .  .  .  . |\n",
      " |          DT |  .  .  .  .  .  .<20> .  .  .  .  .  .  .  .  .  .  .  .  .  .  .  .  .  .  .  .  .  .  .  . |\n",
      " |          EX |  .  .  .  .  .  .  . <1> .  .  .  .  .  .  .  .  .  .  .  .  .  .  .  .  .  .  .  .  .  .  . |\n",
      " |          IN |  .  .  .  .  .  .  .  .<22> .  .  .  .  .  .  .  .  .  .  3  .  .  .  .  .  .  .  .  .  .  . |\n",
      " |          JJ |  .  .  .  .  .  .  .  .  .<16> .  .  .  .  1  .  .  .  .  1  .  .  .  .  .  .  .  .  .  .  . |\n",
      " |         JJR |  .  .  .  .  .  .  .  .  .  . <.> .  .  .  .  .  .  .  .  .  .  .  .  .  .  .  .  .  .  .  . |\n",
      " |         JJS |  .  .  .  .  .  .  .  .  .  .  . <1> .  .  .  .  .  .  .  .  .  .  .  .  .  .  .  .  .  .  . |\n",
      " |          MD |  .  .  .  .  .  .  .  .  .  .  .  . <1> .  .  .  .  .  .  .  .  .  .  .  .  .  .  .  .  .  . |\n",
      " |          NN |  .  .  .  .  .  .  .  .  .  .  .  .  .<28> 1  1  .  .  .  .  .  .  .  .  .  .  .  .  .  .  . |\n",
      " |         NNP |  .  .  .  .  .  .  .  .  .  .  .  .  .  .<25> .  .  .  .  .  .  .  .  .  .  .  .  .  .  .  . |\n",
      " |         NNS |  .  .  .  .  .  .  .  .  .  .  .  .  .  .  .<19> .  .  .  .  .  .  .  .  .  .  .  .  .  .  . |\n",
      " |         POS |  .  .  .  .  .  .  .  .  .  .  .  .  .  .  .  . <1> .  .  .  .  .  .  .  .  .  .  .  .  .  . |\n",
      " |         PRP |  .  .  .  .  .  .  .  .  .  .  .  .  .  .  .  .  . <4> .  .  .  .  .  .  .  .  .  .  .  .  . |\n",
      " |        PRP$ |  .  .  .  .  .  .  .  .  .  .  .  .  .  .  .  .  .  . <2> .  .  .  .  .  .  .  .  .  .  .  . |\n",
      " |          RB |  .  .  .  .  .  .  .  .  .  .  .  .  .  .  .  .  .  .  . <4> .  .  .  .  .  .  .  .  .  .  . |\n",
      " |         RBR |  .  .  .  .  .  .  .  .  .  .  1  .  .  .  .  .  .  .  .  . <1> .  .  .  .  .  .  .  .  .  . |\n",
      " |          RP |  .  .  .  .  .  .  .  .  .  .  .  .  .  .  .  .  .  .  .  .  . <1> .  .  .  .  .  .  .  .  . |\n",
      " |          TO |  .  .  .  .  .  .  .  .  .  .  .  .  .  .  .  .  .  .  .  .  .  . <5> .  .  .  .  .  .  .  . |\n",
      " |          VB |  .  .  .  .  .  .  .  .  .  .  .  .  .  .  .  .  .  .  .  .  .  .  . <3> .  .  .  .  .  .  . |\n",
      " |         VBD |  .  .  .  .  .  .  .  .  .  .  .  .  .  1  .  .  .  .  .  .  .  .  .  . <6> .  .  .  .  .  . |\n",
      " |         VBG |  .  .  .  .  .  .  .  .  .  .  .  .  .  1  .  .  .  .  .  .  .  .  .  .  . <4> .  .  .  .  . |\n",
      " |         VBN |  .  .  .  .  .  .  .  .  .  .  .  .  .  .  .  .  .  .  .  .  .  .  .  .  1  . <4> .  .  .  . |\n",
      " |         VBP |  .  .  .  .  .  .  .  .  .  .  .  .  .  .  .  .  .  .  .  .  .  .  .  .  .  .  . <3> .  .  . |\n",
      " |         VBZ |  .  .  .  .  .  .  .  .  .  .  .  .  .  .  .  .  .  .  .  .  .  .  .  .  .  .  .  . <7> .  . |\n",
      " |         WDT |  .  .  .  .  .  .  .  .  2  .  .  .  .  .  .  .  .  .  .  .  .  .  .  .  .  .  .  .  . <.> . |\n",
      " |          `` |  .  .  .  .  .  .  .  .  .  .  .  .  .  .  .  .  .  .  .  .  .  .  .  .  .  .  .  .  .  . <1>|\n",
      " |      -------+----------------------------------------------------------------------------------------------+\n",
      " |      (row = reference; col = test)\n",
      " |      <BLANKLINE>\n",
      " |      \n",
      " |      :param gold: The list of tagged sentences to run the tagger with,\n",
      " |          also used as the reference values in the generated confusion matrix.\n",
      " |      :type gold: list(list(tuple(str, str)))\n",
      " |      :rtype: ConfusionMatrix\n",
      " |  \n",
      " |  evaluate(*args, **kwargs)\n",
      " |      @deprecated: Use accuracy(gold) instead.\n",
      " |  \n",
      " |  evaluate_per_tag(self, gold, alpha=0.5, truncate=None, sort_by_count=False)\n",
      " |      Tabulate the **recall**, **precision** and **f-measure**\n",
      " |      for each tag from ``gold`` or from running ``tag`` on the tokenized\n",
      " |      sentences from ``gold``.\n",
      " |      \n",
      " |      >>> from nltk.tag import PerceptronTagger\n",
      " |      >>> from nltk.corpus import treebank\n",
      " |      >>> tagger = PerceptronTagger()\n",
      " |      >>> gold_data = treebank.tagged_sents()[:10]\n",
      " |      >>> print(tagger.evaluate_per_tag(gold_data))\n",
      " |         Tag | Prec.  | Recall | F-measure\n",
      " |      -------+--------+--------+-----------\n",
      " |          '' | 1.0000 | 1.0000 | 1.0000\n",
      " |           , | 1.0000 | 1.0000 | 1.0000\n",
      " |      -NONE- | 0.0000 | 0.0000 | 0.0000\n",
      " |           . | 1.0000 | 1.0000 | 1.0000\n",
      " |          CC | 1.0000 | 1.0000 | 1.0000\n",
      " |          CD | 0.7143 | 1.0000 | 0.8333\n",
      " |          DT | 1.0000 | 1.0000 | 1.0000\n",
      " |          EX | 1.0000 | 1.0000 | 1.0000\n",
      " |          IN | 0.9167 | 0.8800 | 0.8980\n",
      " |          JJ | 0.8889 | 0.8889 | 0.8889\n",
      " |         JJR | 0.0000 | 0.0000 | 0.0000\n",
      " |         JJS | 1.0000 | 1.0000 | 1.0000\n",
      " |          MD | 1.0000 | 1.0000 | 1.0000\n",
      " |          NN | 0.8000 | 0.9333 | 0.8615\n",
      " |         NNP | 0.8929 | 1.0000 | 0.9434\n",
      " |         NNS | 0.9500 | 1.0000 | 0.9744\n",
      " |         POS | 1.0000 | 1.0000 | 1.0000\n",
      " |         PRP | 1.0000 | 1.0000 | 1.0000\n",
      " |        PRP$ | 1.0000 | 1.0000 | 1.0000\n",
      " |          RB | 0.4000 | 1.0000 | 0.5714\n",
      " |         RBR | 1.0000 | 0.5000 | 0.6667\n",
      " |          RP | 1.0000 | 1.0000 | 1.0000\n",
      " |          TO | 1.0000 | 1.0000 | 1.0000\n",
      " |          VB | 1.0000 | 1.0000 | 1.0000\n",
      " |         VBD | 0.8571 | 0.8571 | 0.8571\n",
      " |         VBG | 1.0000 | 0.8000 | 0.8889\n",
      " |         VBN | 1.0000 | 0.8000 | 0.8889\n",
      " |         VBP | 1.0000 | 1.0000 | 1.0000\n",
      " |         VBZ | 1.0000 | 1.0000 | 1.0000\n",
      " |         WDT | 0.0000 | 0.0000 | 0.0000\n",
      " |          `` | 1.0000 | 1.0000 | 1.0000\n",
      " |      <BLANKLINE>\n",
      " |      \n",
      " |      :param gold: The list of tagged sentences to score the tagger on.\n",
      " |      :type gold: list(list(tuple(str, str)))\n",
      " |      :param alpha: Ratio of the cost of false negative compared to false\n",
      " |          positives, as used in the f-measure computation. Defaults to 0.5,\n",
      " |          where the costs are equal.\n",
      " |      :type alpha: float\n",
      " |      :param truncate: If specified, then only show the specified\n",
      " |          number of values.  Any sorting (e.g., sort_by_count)\n",
      " |          will be performed before truncation. Defaults to None\n",
      " |      :type truncate: int, optional\n",
      " |      :param sort_by_count: Whether to sort the outputs on number of\n",
      " |          occurrences of that tag in the ``gold`` data, defaults to False\n",
      " |      :type sort_by_count: bool, optional\n",
      " |      :return: A tabulated recall, precision and f-measure string\n",
      " |      :rtype: str\n",
      " |  \n",
      " |  f_measure(self, gold, alpha=0.5)\n",
      " |      Compute the f-measure for each tag from ``gold`` or from running ``tag``\n",
      " |      on the tokenized sentences from ``gold``. Then, return the dictionary\n",
      " |      with mappings from tag to f-measure. The f-measure is the harmonic mean\n",
      " |      of the ``precision`` and ``recall``, weighted by ``alpha``.\n",
      " |      In particular, given the precision *p* and recall *r* defined by:\n",
      " |      \n",
      " |      - *p* = true positive / (true positive + false negative)\n",
      " |      - *r* = true positive / (true positive + false positive)\n",
      " |      \n",
      " |      The f-measure is:\n",
      " |      \n",
      " |      - *1/(alpha/p + (1-alpha)/r)*\n",
      " |      \n",
      " |      With ``alpha = 0.5``, this reduces to:\n",
      " |      \n",
      " |      - *2pr / (p + r)*\n",
      " |      \n",
      " |      :param gold: The list of tagged sentences to score the tagger on.\n",
      " |      :type gold: list(list(tuple(str, str)))\n",
      " |      :param alpha: Ratio of the cost of false negative compared to false\n",
      " |          positives. Defaults to 0.5, where the costs are equal.\n",
      " |      :type alpha: float\n",
      " |      :return: A mapping from tags to precision\n",
      " |      :rtype: Dict[str, float]\n",
      " |  \n",
      " |  precision(self, gold)\n",
      " |      Compute the precision for each tag from ``gold`` or from running ``tag``\n",
      " |      on the tokenized sentences from ``gold``. Then, return the dictionary\n",
      " |      with mappings from tag to precision. The precision is defined as:\n",
      " |      \n",
      " |      - *p* = true positive / (true positive + false negative)\n",
      " |      \n",
      " |      :param gold: The list of tagged sentences to score the tagger on.\n",
      " |      :type gold: list(list(tuple(str, str)))\n",
      " |      :return: A mapping from tags to precision\n",
      " |      :rtype: Dict[str, float]\n",
      " |  \n",
      " |  recall(self, gold) -> Dict[str, float]\n",
      " |      Compute the recall for each tag from ``gold`` or from running ``tag``\n",
      " |      on the tokenized sentences from ``gold``. Then, return the dictionary\n",
      " |      with mappings from tag to recall. The recall is defined as:\n",
      " |      \n",
      " |      - *r* = true positive / (true positive + false positive)\n",
      " |      \n",
      " |      :param gold: The list of tagged sentences to score the tagger on.\n",
      " |      :type gold: list(list(tuple(str, str)))\n",
      " |      :return: A mapping from tags to recall\n",
      " |      :rtype: Dict[str, float]\n",
      " |  \n",
      " |  tag_sents(self, sentences)\n",
      " |      Apply ``self.tag()`` to each element of *sentences*.  I.e.::\n",
      " |      \n",
      " |          return [self.tag(sent) for sent in sentences]\n",
      " |  \n",
      " |  ----------------------------------------------------------------------\n",
      " |  Data descriptors inherited from nltk.tag.api.TaggerI:\n",
      " |  \n",
      " |  __dict__\n",
      " |      dictionary for instance variables (if defined)\n",
      " |  \n",
      " |  __weakref__\n",
      " |      list of weak references to the object (if defined)\n",
      "\n"
     ],
     "output_type": "stream"
    }
   ],
   "metadata": {
    "datalore": {
     "node_id": "qF20in8AsYTihgQegMx8jq",
     "type": "CODE",
     "hide_input_from_viewers": false,
     "hide_output_from_viewers": false,
     "report_properties": {
      "rowId": "qdwkc3dCM1WvOYiW7F6C4t"
     }
    }
   }
  },
  {
   "cell_type": "markdown",
   "source": [
    "Once we have our feature function, we can train a recognizer for the\n",
    "Dutch CONLL corpus as shown below. This classifier uses a Naive Bayes training algorithm.\n",
    "\n",
    "It sometimes takes a long time to train a recognizer so we demonstrate here with a tiny\n",
    "training set. Unsurprisingly,\n",
    "it's too small for the chunker to do anything useful with novel test\n",
    "data. Use larger datasets judiciously: Very short training sets are\n",
    "fine for checking if your code runs or crashes, but to find out if a new\n",
    "feature improves accuracy, you need to train on the entire dataset--\n",
    "or at least a substantial portion (several thousand sentences).\n",
    "\n",
    "If your code is too slow for anything but trivial datasets, figure out\n",
    "what is slowing it down. "
   ],
   "attachments": {},
   "metadata": {
    "datalore": {
     "node_id": "G2thhGTycBBfmZhzKancas",
     "type": "MD",
     "hide_input_from_viewers": false,
     "hide_output_from_viewers": false,
     "report_properties": {
      "rowId": "3fAREqMh7Zmx21w0WGiYEo"
     }
    }
   }
  },
  {
   "cell_type": "code",
   "source": [
    "# Uncomment this import statement if you want to import from a file instead of using the one in this Notebook\n",
    "# from custom_chunker import ConsecutiveNPChunker\n",
    "\n",
    "# train your model on the first 100 sentences\n",
    "training = conll.chunked_sents(\"ned.train\")[:100]\n",
    "\n",
    "# train a model on 100 training items\n",
    "test_nl_NER = ConsecutiveNPChunker(test_features, training)\n",
    "\n",
    "# Note: if you get ValueError: A ELE probability distribution must have at least one bin, it's probably because you haven't finished updating the code for the Chunker yet."
   ],
   "execution_count": 11,
   "outputs": [],
   "metadata": {
    "datalore": {
     "node_id": "6risGPeAIdsRgyD5dWzIHD",
     "type": "CODE",
     "hide_input_from_viewers": false,
     "hide_output_from_viewers": false,
     "report_properties": {
      "rowId": "j4pCPCh9HAXp4kPamEDUkB"
     }
    },
    "ExecuteTime": {
     "end_time": "2023-06-01T15:08:02.404308900Z",
     "start_time": "2023-06-01T15:08:02.344724600Z"
    }
   }
  },
  {
   "cell_type": "markdown",
   "source": [
    "We evaluate our recognizer by calling its `accuracy` method.\n",
    "Evaluation is a lot faster than training, so we use the entire test\n",
    "set `ned.testa`.\n",
    "\n",
    "(Are you wondering why there's an `accuracy` method even though it's not in the code for `ConsecutiveNPChunker`? It's _inherited_ from its parent class, `nltk.ChunkParserI`.)"
   ],
   "attachments": {},
   "metadata": {
    "datalore": {
     "node_id": "xboDwJxR473cw0G8JKwbAb",
     "type": "MD",
     "hide_input_from_viewers": false,
     "hide_output_from_viewers": false,
     "report_properties": {
      "rowId": "2x6gXs7WZzbk2jrST9ksdK"
     }
    }
   }
  },
  {
   "cell_type": "code",
   "source": [
    "print(test_nl_NER.accuracy(testing))"
   ],
   "execution_count": 12,
   "outputs": [
    {
     "name": "stdout",
     "output_type": "stream",
     "text": [
      "ChunkParse score:\n",
      "    IOB Accuracy:  90.0%%\n",
      "    Precision:      6.3%%\n",
      "    Recall:         0.2%%\n",
      "    F-Measure:      0.4%%\n"
     ]
    }
   ],
   "metadata": {
    "datalore": {
     "node_id": "pw3sHuaq7UIPbRMV9cc6WB",
     "type": "CODE",
     "hide_input_from_viewers": false,
     "hide_output_from_viewers": false,
     "report_properties": {
      "rowId": "RvWrddbPLmgwLoL2NfgTR8"
     }
    },
    "ExecuteTime": {
     "end_time": "2023-06-01T15:08:11.223451Z",
     "start_time": "2023-06-01T15:08:04.895963300Z"
    }
   }
  },
  {
   "cell_type": "markdown",
   "source": [
    "The `ConsecutiveNPChunker` class has some useful methods for development, including one that tags a sentence and displays the gold and predicted words:"
   ],
   "attachments": {},
   "metadata": {
    "datalore": {
     "node_id": "B1kITr6hyTQrIYQtdFYJaL",
     "type": "MD",
     "hide_input_from_viewers": false,
     "hide_output_from_viewers": false,
     "report_properties": {
      "rowId": "DLv6aJUwPQuHdcxMBAHDIj"
     }
    }
   }
  },
  {
   "cell_type": "code",
   "source": [
    "test_nl_NER.compare_output_to_gold(testing[1])"
   ],
   "execution_count": 35,
   "outputs": [
    {
     "name": "stdout",
     "text": [
      "gold\n",
      "tagged\n",
      "\n",
      "(('Bomaanslag', 'Adj'), 'O')\n",
      "(('Bomaanslag', 'Adj'), 'O') \n",
      "\n",
      "(('op', 'Prep'), 'O')\n",
      "(('op', 'Prep'), 'O') \n",
      "\n",
      "(('Indiase', 'Adj'), 'B-MISC')\n",
      "(('Indiase', 'Adj'), 'O') \n",
      "\n",
      "(('trein', 'N'), 'O')\n",
      "(('trein', 'N'), 'O') \n",
      "\n",
      "((':', 'Punc'), 'O')\n",
      "((':', 'Punc'), 'O') \n",
      "\n",
      "(('twaalf', 'Num'), 'O')\n",
      "(('twaalf', 'Num'), 'O') \n",
      "\n",
      "(('doden', 'Adj'), 'O')\n",
      "(('doden', 'Adj'), 'O') \n",
      "\n"
     ],
     "output_type": "stream"
    }
   ],
   "metadata": {
    "datalore": {
     "node_id": "1Jt2NAMX11zkdQITNdsJxX",
     "type": "CODE",
     "hide_input_from_viewers": false,
     "hide_output_from_viewers": false,
     "report_properties": {
      "rowId": "Mmw8Kf2GL3BQXRJDNH88z2"
     }
    }
   }
  },
  {
   "cell_type": "markdown",
   "source": [
    "Unsurprisingly, relying only on the part of speech and history is a very poor way\n",
    "to identify named entities. Our trivial recognizer trained on 100 sentences finds a negligible\n",
    "proportion of all named entities (0.2% recall). Of the chunks it marks\n",
    "as named entities, a small proportion (6.3%) are indeed named\n",
    "entities; the rest were marked incorrectly. It does, however, get most of the I/O/B tags right. (Why do you think this is?)\n",
    "\n",
    "When the whole training corpus is used, it finds no named entities at all. (Can you see why, with this feature set?)\n",
    "\n",
    "When you use the feature extractor `test_features` and train it on the same two data sets, you should also get these results. (If not, something is wrong.)"
   ],
   "attachments": {},
   "metadata": {
    "datalore": {
     "node_id": "awQ5eRqoo3r2ItlqfpLNfw",
     "type": "MD",
     "hide_input_from_viewers": false,
     "hide_output_from_viewers": false,
     "report_properties": {
      "rowId": "z2rVqypZm6mJJwUB8TzE5m"
     }
    }
   }
  },
  {
   "cell_type": "code",
   "source": [
    "# With 100 training sentences:\n",
    "# ChunkParse score:\n",
    "#     IOB Accuracy:  90.0%%\n",
    "#     Precision:      6.3%%\n",
    "#     Recall:         0.2%%\n",
    "#     F-Measure:      0.4%%\n",
    "    \n",
    "# With full training set:\n",
    "# ChunkParse score:\n",
    "#     IOB Accuracy:  90.1%%\n",
    "#     Precision:      0.0%%\n",
    "#     Recall:         0.0%%\n",
    "#     F-Measure:      0.0%%"
   ],
   "execution_count": 36,
   "outputs": [],
   "metadata": {
    "datalore": {
     "node_id": "cMbPO1eg7GphqmuGjzRhWO",
     "type": "CODE",
     "hide_input_from_viewers": false,
     "hide_output_from_viewers": false,
     "report_properties": {
      "rowId": "ODS42smVM7ZuGxKF81HSev"
     }
    }
   }
  },
  {
   "cell_type": "markdown",
   "source": [
    "## 3. Step 2: Turn it into a program\n",
    "\n",
    "Training a non-trivial classifier is too time-consuming to keep\n",
    "entirely in a notebook. Prepare to work with python scripts (in Spyder\n",
    "or in your favorite editor), as follows:\n",
    "\n",
    "1. Save the `custom_chunker` module code above in a file named `custom_chunker.py`. Note that this code is also provided as `incomplete_custom_chunker.py`, so if you've been editing that file, just rename it to `custom_chunker.py`.\n",
    "\n",
    "2. Create a module `features.py` for your feature extractors. \n",
    "Put the definition of `test_features()` there as a starter. \n",
    "(You should later add, and use, additional functions.)\n",
    "\n",
    "3. You can now import both modules, or parts of them, for use in a\n",
    "Notebook or in other scripts. (Be careful if you're importing into a Notebook. If you edit the file, you may need to restart the kernel in order to properly re-import the edited module.) \n",
    "\n",
    "For example:"
   ],
   "attachments": {},
   "metadata": {
    "datalore": {
     "node_id": "zVIMbsx48UDhUuJctjsXX0",
     "type": "MD",
     "hide_input_from_viewers": false,
     "hide_output_from_viewers": false,
     "report_properties": {
      "rowId": "XSFTEVITbCYa162AMEXJoB"
     }
    }
   }
  },
  {
   "cell_type": "code",
   "source": [
    "from custom_chunker import ConsecutiveNPChunker\n",
    "from features import test_features"
   ],
   "execution_count": 13,
   "outputs": [],
   "metadata": {
    "datalore": {
     "node_id": "WnKbOgfxy0A80t7H2eKZVm",
     "type": "CODE",
     "hide_input_from_viewers": false,
     "hide_output_from_viewers": false,
     "report_properties": {
      "rowId": "cCb5ZlyVGCL6D4wuHugB7C"
     }
    },
    "ExecuteTime": {
     "end_time": "2023-06-01T15:10:34.550359500Z",
     "start_time": "2023-06-01T15:10:34.532373500Z"
    }
   }
  },
  {
   "cell_type": "code",
   "source": [
    "my_recognizer = ConsecutiveNPChunker(test_features, training)\n",
    "\n",
    "print(my_recognizer.accuracy(testing))\n"
   ],
   "execution_count": 17,
   "outputs": [
    {
     "name": "stdout",
     "output_type": "stream",
     "text": [
      "ChunkParse score:\n",
      "    IOB Accuracy:  90.0%%\n",
      "    Precision:      6.3%%\n",
      "    Recall:         0.2%%\n",
      "    F-Measure:      0.4%%\n"
     ]
    }
   ],
   "metadata": {
    "datalore": {
     "node_id": "QwDPb1JRL7k37HgB5Ud9lK",
     "type": "CODE",
     "hide_input_from_viewers": false,
     "hide_output_from_viewers": false,
     "report_properties": {
      "rowId": "vn7SQIsUb0GLiW1GUv1EQo"
     }
    },
    "ExecuteTime": {
     "end_time": "2023-06-01T15:16:51.136803300Z",
     "start_time": "2023-06-01T15:16:48.116687600Z"
    }
   }
  },
  {
   "cell_type": "markdown",
   "source": [
    "## 4. Pickling and unpickling successfully"
   ],
   "attachments": {},
   "metadata": {
    "datalore": {
     "node_id": "g48zf2JG1Jwj5RFVJiG7l8",
     "type": "MD",
     "hide_input_from_viewers": false,
     "hide_output_from_viewers": false,
     "report_properties": {
      "rowId": "6wRxoEDiFBZ1IVmjATPRjN"
     }
    }
   }
  },
  {
   "cell_type": "markdown",
   "source": [
    "We have already seen how to pickle and reload a trained tagger.\n",
    "Working with a classifier is slightly more complicated, since its\n",
    "operation relies on code that we write and revise.  This requires some\n",
    "care to work correctly.\n",
    "\n",
    "It is important to understand that **pickling in python only stores\n",
    "data.** Pickled objects do not store python code for function or class\n",
    "definitions. To reload a pickled object, python must be able to find\n",
    "the definition of its class and of any functions the object refers to.\n",
    "\n",
    "1. During pickling, a record is made of the modules where the needed\n",
    "types and functions were defined.\n",
    "\n",
    "2. During unpickling, the types and functions are imported from the\n",
    "recorded modules and used with the reloaded objects.\n",
    "\n",
    "This is a bit of behind-the-screens magic, so you must take some care\n",
    "to avoid problems:\n",
    "\n",
    "2.  After you store a pickled object, you should not modify the\n",
    "functions and classes it depends on (i.e., `ConsecutiveNPChunker` and\n",
    "the feature extraction function it uses). **If you modify your feature \n",
    "function after pickling a model, the model will become invalid.**\n",
    "Your model may or may not cause runtime errors, but the statistics \n",
    "will be incorrect and you'll have to train and pickle a new\n",
    "version. Use a different name for each version of your feature extraction \n",
    "function (`chunkfeatures_2`, `big_features`, or whatever), so \n",
    "that unpickled models can retrieve the right function later.\n",
    "\n",
    "* Code can only be found in *named* modules, but the main script does\n",
    "not count as a regular named module (its name is always just\n",
    "`__main__`). If you define your feature function (e.g.,\n",
    "`chunkfeatures_1`) in your main script, pickle a model, and unpickle\n",
    "it from a _different_ script, python will not be able to find your\n",
    "function. The solution is simple:\n",
    "\n",
    "    * **All necessary classes and functions should be defined in\n",
    "modules (one or several), and *imported* into your main script.**\n",
    "\n",
    " The script that unpickles your model will then know where to find\n",
    "everything.\n",
    "\n",
    "\n",
    "\n",
    "**In short:** Use a different name for each new feature extraction\n",
    "function you define, and keep their definitions in modules, not in\n",
    "an `if __name__ == \"__main__\"` script section."
   ],
   "attachments": {},
   "metadata": {
    "datalore": {
     "node_id": "GNbxs0VMgjU8e7Eft4QbSf",
     "type": "MD",
     "hide_input_from_viewers": false,
     "hide_output_from_viewers": false,
     "report_properties": {
      "rowId": "zDy5waYoyZbuT43gMtXE4T"
     }
    }
   }
  },
  {
   "cell_type": "markdown",
   "source": [
    "## 5. Self-testing\n",
    "\n",
    "Here is a simple script that should be able to use your pickled\n",
    "tagger. Ensure that your code is compatible with it. If your code does\n",
    "not work with this script, **do not modify the script.** Fix your code\n",
    "so that it is compatible with the script. If your code does not work with this version of the testing script, it will not be compatible with our grading scripts"
   ],
   "attachments": {},
   "metadata": {
    "datalore": {
     "node_id": "c7fmRTkqq2sbRbiix1Rh4m",
     "type": "MD",
     "hide_input_from_viewers": false,
     "hide_output_from_viewers": false,
     "report_properties": {
      "rowId": "x00Say4Sfm5zZuzCmMYdwz"
     }
    }
   }
  },
  {
   "cell_type": "code",
   "execution_count": 15,
   "outputs": [],
   "source": [
    "import pickle\n",
    "\n",
    "pickle.dump(my_recognizer, open(\"best.pickle\", \"wb\"))\n"
   ],
   "metadata": {
    "collapsed": false,
    "ExecuteTime": {
     "end_time": "2023-06-01T15:15:36.326835800Z",
     "start_time": "2023-06-01T15:15:36.314318700Z"
    }
   }
  },
  {
   "cell_type": "code",
   "source": [
    "\"\"\"\n",
    "FILE: best_model_test.py\n",
    "Author: Alexis Dimitriadis\n",
    "\n",
    "Tests the functionality of a pickled model called best.pickle\n",
    "\"\"\"\n",
    "\n",
    "import pickle\n",
    "from nltk.corpus import conll2002 as conll\n",
    "\n",
    "# best.pickle\n",
    "ner = pickle.load(open(\"best.pickle\", \"rb\"))\n",
    "\n",
    "# Usage 1: parse a list of sentences (with POS tags)\n",
    "tagzinnen = conll.tagged_sents(\"ned.train\")[1000:1050]\n",
    "ner.parse_sents(tagzinnen)\n",
    "\n",
    "# Usage 2: self-evaluate (on chunked sentences)\n",
    "chunkzinnen = conll.chunked_sents(\"ned.testa\")[1000:1500]\n",
    "\n",
    "print(ner.accuracy(chunkzinnen))"
   ],
   "execution_count": 19,
   "outputs": [
    {
     "name": "stdout",
     "output_type": "stream",
     "text": [
      "ChunkParse score:\n",
      "    IOB Accuracy:  89.3%%\n",
      "    Precision:     10.0%%\n",
      "    Recall:         0.4%%\n",
      "    F-Measure:      0.8%%\n"
     ]
    }
   ],
   "metadata": {
    "datalore": {
     "node_id": "i8WWMSvqBsOPBdICepP5ML",
     "type": "CODE",
     "hide_input_from_viewers": false,
     "hide_output_from_viewers": false,
     "report_properties": {
      "rowId": "KamfQeqO9tfqYzq9BAprYZ"
     }
    },
    "ExecuteTime": {
     "end_time": "2023-06-01T15:17:18.606462800Z",
     "start_time": "2023-06-01T15:17:17.614971300Z"
    }
   }
  },
  {
   "cell_type": "markdown",
   "source": [
    "## 6. Step 3: Write scripts to build and evaluate your models\n",
    "\n",
    "Write a script `build_models.py` that trains and pickles classifiers. \n",
    "\n",
    "Write a script `evaluate_models.py` that loads and evaluates your models. Make sure it prints at least: something that identifies the model/feature set, and the precision, recall, and F-measure for each model. You may also find you want to print more things; use your discretion.\n",
    "\n",
    "Give both scripts useful command-line interfaces that allow you to choose what to train and what to evaluate, and explain in a help message or a README file how to use them."
   ],
   "attachments": {},
   "metadata": {
    "datalore": {
     "node_id": "WZZKknoOAVMbGfzwBZ9kvW",
     "type": "MD",
     "hide_input_from_viewers": false,
     "hide_output_from_viewers": false,
     "report_properties": {
      "rowId": "CHocXfPXFmyu0aVPue72H9"
     }
    }
   }
  },
  {
   "cell_type": "markdown",
   "source": [
    "## 7. Step 4: Improve the model by improving the feature selection\n",
    "\n",
    "**In brief:** Choose suitable features to improve your classifier's\n",
    "performance.\n",
    "\n",
    "Now that you have a minimal working classifier, define better \n",
    "feature functions to improve your classifier's performance. Train with\n",
    "`ned.train`, and evaluate performance on the data in `ned.testa` only.\n",
    "\n",
    "You can start with including capitalization information about the\n",
    "current word; you can also experiment with features about the number\n",
    "of letters in the word, the tag that precedes or follows it, whether\n",
    "it follows a word that is already marked as part of a named entity\n",
    "(use the `history` vector), etc.\n",
    "\n",
    "You are also allowed to use (some) external resources. E.g., our list\n",
    "of Dutch proper names (from an earlier activity) might be helpful in\n",
    "recognizing whether some word is a person's name: Add a feature that\n",
    "tells you whether a word is the list of names (or perhaps in an abbreviated\n",
    "list containing just the most common names). You may also use any dataset\n",
    "that is provided by the nltk (available through `nltk.download`). Ask\n",
    "us first before using any other, external resources.\n",
    "\n",
    "These are only suggestions: Utilize your reading and your imagination\n",
    "to come up with more. Make sure you try **at least three** feature extractors. These three or more should have their feature extractors in/imported into `features.py`, be included in `evaluation_output.txt`, and be in your report.\n",
    "\n",
    "It is not necessary to report on (i.e. write about in your report) every version of the feature\n",
    "extractors you try out, but make sure you report on at least three.\n",
    "\n",
    "### `evaluation_output.txt`: a record of your experiments\n",
    "\n",
    "As you experiment with models, save the output of `evaluate_models` in a file `evaluation_output.txt`. The `evaluation_output.txt` and `features.py` that you hand in should be congruent: all feature functions in (or imported into) `features.py` should have output in `evaluation_output.txt` and any models in `evaluation_output.txt` should have their feature functions in (or imported into) `features.py`. Include an absolute minimum of 3 feature functions and an absolute minimum of 7 features altogether.  \n",
    "\n",
    "Make sure your `evaluate_models` script prints some information identifying the models. When you hand in your assignment, add a line to `evaluation_output.txt` identifying the model pickled as `best.pickle`, a line identifying the model pickles at `other.pickle`, and a line identifying your best model overall if you have an even better one with a different training algorithm (see Step 4.a below).\n",
    "\n",
    "### Step 4.a: OPTIONAL: improve other things about your model for bonus points\n",
    "\n",
    "If you're feeling ambitious, it's permitted to change other things; for example, you could trade out the learning algorithm for the MaxEnt GIS or IIS algorithm, or Decision Tree (available as options in the classifier class we built) and see if it's better.\n",
    "\n",
    "If you do anything that involves changing the provided code beyond what the assignment asks, make sure the default behaviour is the same as in the assignment, and be sure to document it. For example, if you add any new arguments to any methods, make sure they have default values. \n",
    "\n",
    "Please note that the Naive Bayes algorithm is much, much faster to train than the others, which is why it is the default in the class we built. It is not usually the best one, though. As such, we have different criteria for what counts as a good model depending on your algorithm. This is to keep the training manageable, especially if your computer is slow."
   ],
   "attachments": {},
   "metadata": {
    "datalore": {
     "node_id": "A77JcICSrvwDEkVJdoSP8N",
     "type": "MD",
     "hide_input_from_viewers": false,
     "hide_output_from_viewers": false,
     "report_properties": {
      "rowId": "P0vtsxgBT4jfQMaDs1Ympk"
     }
    }
   }
  },
  {
   "cell_type": "markdown",
   "source": [
    "## 8. Step 5: Performance evaluation"
   ],
   "attachments": {},
   "metadata": {
    "datalore": {
     "node_id": "J9RCw0xC5NCVddFSwOulxB",
     "type": "MD",
     "hide_input_from_viewers": false,
     "hide_output_from_viewers": false,
     "report_properties": {
      "rowId": "AopcNMNWsTIxo3ggjdhtFq"
     }
    }
   }
  },
  {
   "cell_type": "markdown",
   "source": [
    "Train and pickle **two** models. Evaluate both on the data in `ned.testa`.\n",
    "\n",
    "One of these two models should be your **best Naive Bayes classifier** trained on the full `ned.train`. Call its pickle `best.pickle`.\n",
    "\n",
    "The other model is your choice, but there are a few rules:\n",
    "\n",
    "**Not allowed:**\n",
    "\n",
    "   * `test_features` as its feature extractor.\n",
    "   * Naive Bayes model trained on only part of the training data\n",
    "\n",
    "**Allowed:**\n",
    "\n",
    "   * Naive Bayes model trained on the whole `ned.train` and using a different feature extractor\n",
    "   * model using a different algorithm (e.g. MaxEnt), trained on any amount of the training data\n",
    "\n",
    "Call this one `other.pickle`.\n",
    "\n",
    "Precision and recall are discussed in [section 6.3.3][3.3] of the NLTK\n",
    "book. The section immediately below that presents the NLTK's\n",
    "[\"ConfusionMatrix( )\"][3.4] method, which is useful for identifying\n",
    "where your classifier makes mistakes. (Its use is optional).\n",
    "\n",
    "You may also find the nltk's [nltk.chunk.util.ChunkScore(\n",
    ")](https://www.nltk.org/api/nltk.chunk.util.html#nltk.chunk.util.ChunkScore)\n",
    "function useful (again, optional).\n",
    "\n",
    "[3.3]: http://www.nltk.org/book/ch06.html#precision-and-recall\n",
    "[3.4]:  http://www.nltk.org/book/ch06.html#confusion-matrices"
   ],
   "attachments": {},
   "metadata": {
    "datalore": {
     "node_id": "paijMfEAOnA6GmYfFgBzHs",
     "type": "MD",
     "hide_input_from_viewers": false,
     "hide_output_from_viewers": false,
     "report_properties": {
      "rowId": "vlCt4NwHEBZr0p9JR6DgrG"
     }
    }
   }
  },
  {
   "cell_type": "markdown",
   "source": [
    "**What performance should you aim for?** As a baseline, a very simple\n",
    "six-feature Naive Bayes classifier achieved about 42% precision and 57% recall,\n",
    "trained on the entire `ned.train` corpus and tested on `ned.testa`.\n",
    "Your solution should do at least this well.\n",
    "\n",
    "<pre>\n",
    "Algorithm: Naive Bayes\n",
    "Time to train: 6.433463261 seconds. (0.000407 per sentence)\n",
    "\n",
    "    6 features:\n",
    "        POS\n",
    "        word (string)\n",
    "        first letter is capital (boolean)\n",
    "        first letter of prev word is capital (boolean)\n",
    "        previous word\n",
    "        previous POS\n",
    "    This is the 6-feature one mentioned in the assignment\n",
    "    \n",
    "ChunkParse score:\n",
    "    IOB Accuracy:  93.6%%\n",
    "    Precision:     42.0%%\n",
    "    Recall:        56.7%%\n",
    "    F-Measure:     48.2%%\n",
    "\n",
    "</pre>"
   ],
   "attachments": {},
   "metadata": {
    "datalore": {
     "node_id": "KLZRlIUZ2FwEBBvcfRJf4P",
     "type": "MD",
     "hide_input_from_viewers": false,
     "hide_output_from_viewers": false,
     "report_properties": {
      "rowId": "gqqSP2N6WLRIy6ErI9aGiW"
     }
    }
   }
  },
  {
   "cell_type": "markdown",
   "source": [
    "A more complex classifier based on NLTK's built-in NER function actually performs worse with the Naive Bayes algorithm, which is something to keep in mind as you explore: sometimes more features isn't better.\n",
    "\n",
    "<pre>\n",
    "\n",
    "Algorithm: Naive Bayes\n",
    "The feature set used by the NLTK's NER\n",
    "ChunkParse score:\n",
    "    IOB Accuracy:  90.4%%\n",
    "    Precision:     37.9%%\n",
    "    Recall:        51.7%%\n",
    "    F-Measure:     43.7%%\n",
    "\n",
    "</pre>\n",
    "\n",
    "With the IIS MaxEnt algorithm, it does pretty well, but requires overnight training. This is not expected of you.\n",
    "\n",
    "\n",
    "<pre>\n",
    "MODEL: NLTK feature set\n",
    "MaxEnt, IIS algorithm\n",
    "15 features, 15806 train sentences, 2895 testing\n",
    "Time to train: 9473 seconds (0.6s per sentence)\n",
    "\n",
    "ChunkParse score:\n",
    "    IOB Accuracy:  96.2%%\n",
    "    Precision:     73.8%%\n",
    "    Recall:        61.6%%\n",
    "    F-Measure:     67.2%%\n",
    "\n",
    "</pre>\n"
   ],
   "attachments": {},
   "metadata": {
    "datalore": {
     "node_id": "FhZi8RF1KjUCV8qcwYClYw",
     "type": "MD",
     "hide_input_from_viewers": false,
     "hide_output_from_viewers": false,
     "report_properties": {
      "rowId": "sn4BHGlBaoiLZPBTEf6c0k"
     }
    }
   }
  },
  {
   "cell_type": "markdown",
   "source": [
    "Your classifier will also be evaluated on sentences from outside the `train` and `testa` sets.\n"
   ],
   "attachments": {},
   "metadata": {
    "datalore": {
     "node_id": "wLh9pNY8fmg6R4f17NC8le",
     "type": "MD",
     "hide_input_from_viewers": false,
     "hide_output_from_viewers": false,
     "report_properties": {
      "rowId": "Hr8wFC2mRIbfMdxVv1HuEI"
     }
    }
   }
  },
  {
   "cell_type": "markdown",
   "source": [
    "Below is a script for checking your `other.pickle` model is correctly pickled. Make sure both `best_model_test.py` and `other_model_test.py` work."
   ],
   "attachments": {},
   "metadata": {
    "datalore": {
     "node_id": "z66mxjJNVoQlVuACnCCy2X",
     "type": "MD",
     "hide_input_from_viewers": false,
     "hide_output_from_viewers": false,
     "report_properties": {
      "rowId": "Jylf9kJy9NkLTdC81U5xAF"
     }
    }
   }
  },
  {
   "cell_type": "code",
   "source": [
    "\"\"\"\n",
    "FILE: other_model_test.py\n",
    "Author: Alexis Dimitriadis\n",
    "\n",
    "Tests the functionality of a pickled model called other.pickle\n",
    "\"\"\"\n",
    "\n",
    "import pickle\n",
    "from nltk.corpus import conll2002 as conll\n",
    "\n",
    "# other.pickle\n",
    "ner = pickle.load(open(\"other.pickle\", \"rb\"))\n",
    "\n",
    "# Usage 1: parse a list of sentences (with POS tags)\n",
    "tagzinnen = conll.tagged_sents(\"ned.train\")[1000:1050]\n",
    "ner.parse_sents(tagzinnen)\n",
    "\n",
    "# Usage 2: self-evaluate (on chunked sentences)\n",
    "chunkzinnen = conll.chunked_sents(\"ned.testa\")[1000:1500]\n",
    "\n",
    "print(ner.accuracy(chunkzinnen))"
   ],
   "execution_count": null,
   "outputs": [],
   "metadata": {
    "datalore": {
     "node_id": "INwaiHQVG1XNMyu5cfHF8g",
     "type": "CODE",
     "hide_input_from_viewers": false,
     "hide_output_from_viewers": false,
     "report_properties": {
      "rowId": "ejxRKZAyUruEu3chocSvY9"
     }
    }
   }
  },
  {
   "cell_type": "markdown",
   "source": [
    "## 9. Step 6: Report\n",
    "\n",
    "1-3 pages, **txt file, markdown file, or PDF only**, summarizing your results. (Cf. the results from step 4.)  You want this to be clear, walking your reader through your reasoning and information. Include:\n",
    "\n",
    "   * Your group number and member names\n",
    "   * Process:\n",
    "        * Any practical difficulties encountered in your group (e.g. a sick member, difficulty getting in contact, etc)\n",
    "        * Did you (try to) use Git? How was that?\n",
    "   * Models:\n",
    "        * Report **and briefly explain** the features in `features.py`\n",
    "            * Don't explain each feature extractor, just the features stored in the dictionaries\n",
    "            * You should have at least 7 features\n",
    "        * You should have a minimum of 3 feature extractor functions. For at least 3 models trained with at least 3 features extractors, report:\n",
    "            * precision, recall and F-scores\n",
    "            * features\n",
    "        * Compare the models stored in `best.pickle` and `other.pickle` (and any others you included)\n",
    "            * What are their precision, recall and F-scores?\n",
    "                * Comment on anything interesting here (e.g. precision and recall are very different, unexpected IOB accuracy...)\n",
    "            * How do the models differ in their design? (features, algorithm, anything else?)\n",
    "            * What do you think accounts for the difference in performance?\n",
    "        * Report about how much time was needed for training and for evaluation of your best model(s)\n",
    "            * Things like \"A few minutes/seconds\" or \"more than 10 minutes but less than an hour\" is accurate enough for fast; \"About n hours\" or \"overnight\" is fine for slow.\n",
    "        * Any additional explanations or observations about the task.\n",
    "   * If you ran into difficulties or did anything extra, this is where you should mention it.\n",
    "   * **Bonus**: You learned about the Naive Bayes algorithm in class. Do you have an idea about why it is so fast, and also so poor?\n",
    "\n",
    "Suggestions for making your report readable:\n",
    "\n",
    "   * Compare outcomes in tables so data can be viewed at a glance\n",
    "   * Put features in list form\n",
    "   * Section names\n",
    "   * At each juncture, say what you're talking about and why. Assume the reader hasn't read the report instructions and is just reading the report to find out about your results. (You can assume they know what the assignment is about.)\n"
   ],
   "attachments": {},
   "metadata": {
    "datalore": {
     "node_id": "0StGhbyQU7qMtka4rfOCEK",
     "type": "MD",
     "hide_input_from_viewers": false,
     "hide_output_from_viewers": false,
     "report_properties": {
      "rowId": "ATUVSsmyrUXDug7O2G3PVi"
     }
    }
   }
  },
  {
   "cell_type": "markdown",
   "source": [
    "## 10. Step 7: Submission"
   ],
   "attachments": {},
   "metadata": {
    "datalore": {
     "node_id": "H8ZULVmqQRG4LgwyuK9oZ6",
     "type": "MD",
     "hide_input_from_viewers": false,
     "hide_output_from_viewers": false,
     "report_properties": {
      "rowId": "kkHSATvzSN03QoHuBY49eK"
     }
    }
   }
  },
  {
   "cell_type": "markdown",
   "source": [
    "Prepare to submit your code, organized in the following units (which\n",
    "may share some additional modules that you **also**\n",
    "submit).\n",
    "\n",
    "Double-check that the code and models you upload can run without\n",
    "modifications, and according to the instructions. Your code should\n",
    "contain no absolute paths or Windows-only paths with backslashes (`\\`).\n",
    "\n",
    "**Use good style**:\n",
    "\n",
    "* All imports should be at the beginning of the file\n",
    "* Name your functions and variables informatively\n",
    "* If you find yourself copying and pasting more than a couple of lines of code into multiple places, instead factor it out into a function.\n",
    "* Include **comments** for anything complex. A good rule of thumb is that if something is hard for you to write or explain, it might need a comment. \n",
    "* **Docstrings**: Make sure every **file, class, and function** has a docstring, and edit the docstrings and comments provided here if necessary, removing the TODOs and updating it to reflect anything about your code that isn't in the original docstring. \n",
    "\n",
    "In the file-level docstring, please include the authors of the file.\n",
    "\n",
    "### Zip the following files and hand in the zip file\n",
    "\n",
    "1. **Your python source files.** It should consist of the following\n",
    "standard files, plus any additional files you find it useful to\n",
    "create:\n",
    "\n",
    "   1. Your script `build_models.py` that trains and pickles the different classifiers you have developed. \n",
    "\n",
    "   2.  Your script `evaluate_models.py` that loads and evaluates your models. Ensure that the output of your evaluation script is a comprehensible report, not just raw numbers. E.g., print out a line identifying the classifier that you are about to calculate the `accuracy` of, and add some blank lines or other visual structure.\n",
    "    \n",
    "   3. The module `features.py` that defines, or imports from other modules, one or more feature extractor functions (whatever you find worth reporting on). \n",
    "    \n",
    "   4. The file `evaluation_output.txt`, with the saved output of the evaluation. This should include outputs for any models you mention in the report, even if they're not your best. We expect to see at least a few here. Add a line of text identifying the model saved as `best.pickle`.\n",
    "    \n",
    "   5. Any additional files you require, including external data (e.g., a list of names).\n",
    "    \n",
    "   6. **if needed:** Your version of `best_model_test.py` and `other_model_test.py` if you needed to make **any** changes to get it to run. (See below)\n",
    "\n",
    "2. **The pickled models of your best Naive Bayes classifier and a second classifier.** Please name them `best.pickle` and `other.pickle` respectively, and **test** that they can be reloaded and work correctly with the simple scripts `best_model_test.py` and `other_model_test.py` (see above). If you needed to make **any** changes to `model_test.py` to get it to run, be sure to include your version in the upload. **If you need to do this, it will cost you a few points**<p/>\n",
    "\n",
    "3. **Optional**: Any additional pickled model you want to share; e.g. if you trained with different algorithm\n",
    "\n",
    "4. **Report**"
   ],
   "attachments": {},
   "metadata": {
    "datalore": {
     "node_id": "lum1NWVzLNImpg8e8Lmjlw",
     "type": "MD",
     "hide_input_from_viewers": false,
     "hide_output_from_viewers": false,
     "report_properties": {
      "rowId": "mb9jJgVz6jdTlFZEFhWyIz"
     }
    }
   }
  },
  {
   "cell_type": "markdown",
   "source": [
    "## 11. Practicalities"
   ],
   "attachments": {},
   "metadata": {
    "datalore": {
     "node_id": "IuDQBVH1WL24pvBy3df6RW",
     "type": "MD",
     "hide_input_from_viewers": false,
     "hide_output_from_viewers": false,
     "report_properties": {
      "rowId": "VPhWUKqG8KnwXBWmExW1l8"
     }
    }
   }
  },
  {
   "cell_type": "markdown",
   "source": [
    "* There will be a small grade bonus (and bragging rights!) for the three groups that achieve the highest F-scores on new data with a Naive Bayes classifier, and bragging rights (only) for the 3 groups with the best models overall, if they're not Naive Bayes.\n",
    "\n",
    "* Your work should be your own. Cite external sources etc. with a comment or in the docstring if local in the code. Add a citation to your report for any external source you use.  Do not ask for help in any forum. DO NOT USE ANY LANGUAGE MODELS, including GPT and GitHub Copilot. (These can be useful tools for later, once you've learned the basics, but you may not use them for any assignments in this class this year.)\n",
    "\n",
    "*  You can freely use any part of the `conll` module itself and any\n",
    "other parts of the NLTK (except, obviously, the build-in NER!), including utility routines for evaluation, etc. You may use standard python libraries, and all libraries included with\n",
    "Anaconda; but not libraries that must be separately downloaded, except with prior approval. If in doubt,\n",
    "ask us.\n",
    "\n",
    "* Every member of your group should at least mostly understand all of the code."
   ],
   "attachments": {},
   "metadata": {
    "datalore": {
     "node_id": "x6Z7RMpF2L2y1R59EaDApv",
     "type": "MD",
     "hide_input_from_viewers": false,
     "hide_output_from_viewers": false,
     "report_properties": {
      "rowId": "ttBtnGr5rOdZKWUeDuI8Hm"
     }
    }
   }
  },
  {
   "cell_type": "code",
   "source": [],
   "execution_count": null,
   "outputs": [],
   "metadata": {
    "datalore": {
     "node_id": "bl8kRCg6uhxhGElzVbAQ1I",
     "type": "CODE",
     "hide_input_from_viewers": false,
     "hide_output_from_viewers": false,
     "report_properties": {
      "rowId": "AFkASr7noNbrChctSdHp3k"
     }
    }
   }
  }
 ],
 "metadata": {
  "kernelspec": {
   "name": "python3",
   "language": "python",
   "display_name": "Python 3 (ipykernel)"
  },
  "datalore": {
   "computation_mode": "JUPYTER",
   "package_manager": "pip",
   "base_environment": "default",
   "packages": [
    {
     "name": "nltk",
     "version": "3.8.1",
     "source": "PIP"
    }
   ],
   "report_row_ids": [
    "WPmzltURzjr8QhLXns0amQ",
    "yiNOMkyCpkdba0Nk0exShC",
    "ZCHM3RyPKNKpzdsRrFIqhK",
    "OpzdP5dzVwvKtjwI1P9CzP",
    "TVH4LuOV8hqdpMHbWc3x26",
    "buxUbJdBxVX15MoCiaCULV",
    "1WKNRUPt5Y8MZWaMJoEbVv",
    "rNQLW6z3qumV7wzP7CzUw8",
    "bt7AubVAeYmeJX2P3zGzXl",
    "yfpz6n5xKNXYhqMLmqZmyq",
    "o5bvAlDLz6wchjhyYC1s55",
    "uLXkeT94ZuwGH5wrmEr0nw",
    "NwdMLJkQpRKLFh1PZjOhJZ",
    "AR8TthAIx2A4QexnnM6sOy",
    "R5WT4Ys2UERgNUvOGFwchc",
    "od2ePeuMWnbE6gwd7FMHHX",
    "E1Be2oTkGuw3dLiLlEtEG5",
    "rOMPWEnsw7lFDX9NbcqzGz",
    "TazQZ8m6vIRQV4rPF3DtZ4",
    "QTTMvf2Nwc0lw5TMbsqpT9",
    "gNBaUWQo1e3lNGdEtSwjnF",
    "PLUfmUTxJL2YICaJgTvWnT",
    "KJsQ6N7KHqMgz0Dz19PeEF",
    "xJjg6Tr8i3ijuLTGBG5sTb",
    "mJ24uPqeRsClQla9mk4rGz",
    "8Ynvhme5rK3Glq7oPFHubx",
    "qdwkc3dCM1WvOYiW7F6C4t",
    "3fAREqMh7Zmx21w0WGiYEo",
    "j4pCPCh9HAXp4kPamEDUkB",
    "2x6gXs7WZzbk2jrST9ksdK",
    "RvWrddbPLmgwLoL2NfgTR8",
    "DLv6aJUwPQuHdcxMBAHDIj",
    "Mmw8Kf2GL3BQXRJDNH88z2",
    "z2rVqypZm6mJJwUB8TzE5m",
    "ODS42smVM7ZuGxKF81HSev",
    "XSFTEVITbCYa162AMEXJoB",
    "cCb5ZlyVGCL6D4wuHugB7C",
    "vn7SQIsUb0GLiW1GUv1EQo",
    "6wRxoEDiFBZ1IVmjATPRjN",
    "zDy5waYoyZbuT43gMtXE4T",
    "x00Say4Sfm5zZuzCmMYdwz",
    "KamfQeqO9tfqYzq9BAprYZ",
    "CHocXfPXFmyu0aVPue72H9",
    "P0vtsxgBT4jfQMaDs1Ympk",
    "AopcNMNWsTIxo3ggjdhtFq",
    "vlCt4NwHEBZr0p9JR6DgrG",
    "gqqSP2N6WLRIy6ErI9aGiW",
    "sn4BHGlBaoiLZPBTEf6c0k",
    "Hr8wFC2mRIbfMdxVv1HuEI",
    "Jylf9kJy9NkLTdC81U5xAF",
    "ejxRKZAyUruEu3chocSvY9",
    "ATUVSsmyrUXDug7O2G3PVi",
    "kkHSATvzSN03QoHuBY49eK",
    "mb9jJgVz6jdTlFZEFhWyIz",
    "VPhWUKqG8KnwXBWmExW1l8",
    "ttBtnGr5rOdZKWUeDuI8Hm",
    "AFkASr7noNbrChctSdHp3k"
   ],
   "version": 3
  }
 },
 "nbformat": 4,
 "nbformat_minor": 4
}
